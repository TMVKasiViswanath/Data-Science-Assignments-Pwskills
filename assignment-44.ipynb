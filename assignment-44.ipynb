{
 "cells": [
  {
   "cell_type": "code",
   "execution_count": null,
   "id": "1bc017ef-a4e9-49e6-9a87-93103e404401",
   "metadata": {},
   "outputs": [],
   "source": [
    "Mean Absolute Error (MAE): MAE measures the average magnitude of the errors in a set of predictions,\n",
    "without considering their direction. It gives you an idea of how wrong your predictions are on average.\n",
    "MAE is easy to understand and interpret, as it represents the average error magnitude.\n",
    "\n",
    "Root Mean Squared Error (RMSE): RMSE is the square root of the average of the squared differences between\n",
    "predicted and actual values. RMSE penalizes larger errors more heavily than MAE, which can be useful if \n",
    "you want to emphasize the importance of larger errors.\n",
    "\n",
    "Both MAE and RMSE are commonly used in regression tasks and can provide valuable insights into the\n",
    "performance of your SVM regression model for predicting house prices."
   ]
  },
  {
   "cell_type": "code",
   "execution_count": 2,
   "id": "d382e00c-f4f2-4270-aa2f-76e3719a07ad",
   "metadata": {},
   "outputs": [
    {
     "name": "stdout",
     "output_type": "stream",
     "text": [
      "Mean Squared Error (MSE): 1.3489971413208723\n"
     ]
    }
   ],
   "source": [
    "from sklearn.datasets import fetch_california_housing\n",
    "from sklearn.model_selection import train_test_split\n",
    "from sklearn.svm import SVR\n",
    "from sklearn.metrics import mean_squared_error\n",
    "\n",
    "\n",
    "housing = fetch_california_housing()\n",
    "X = housing.data\n",
    "y = housing.target\n",
    "\n",
    "\n",
    "X_train, X_test, y_train, y_test = train_test_split(X, y, test_size=0.3, random_state=42)\n",
    "\n",
    "\n",
    "svm = SVR()\n",
    "\n",
    "svm.fit(X_train, y_train)\n",
    "\n",
    "\n",
    "y_pred = svm.predict(X_test)\n",
    "\n",
    "\n",
    "mse = mean_squared_error(y_test, y_pred)\n",
    "print(f\"Mean Squared Error (MSE): {mse}\")\n"
   ]
  },
  {
   "cell_type": "code",
   "execution_count": 3,
   "id": "23e35a11-3f15-42c3-a893-b45df61d71da",
   "metadata": {},
   "outputs": [
    {
     "name": "stdout",
     "output_type": "stream",
     "text": [
      "Mean Absolute Error (MAE): 188.03440480028254\n"
     ]
    }
   ],
   "source": [
    "from sklearn.datasets import make_regression\n",
    "from sklearn.model_selection import train_test_split\n",
    "from sklearn.svm import SVR\n",
    "from sklearn.metrics import mean_absolute_error\n",
    "\n",
    "\n",
    "X, y = make_regression(n_samples=100, n_features=1, noise=10, random_state=42)\n",
    "y[::5] += 500 \n",
    "\n",
    "\n",
    "X_train, X_test, y_train, y_test = train_test_split(X, y, test_size=0.3, random_state=42)\n",
    "\n",
    "\n",
    "svm = SVR()\n",
    "\n",
    "\n",
    "svm.fit(X_train, y_train)\n",
    "\n",
    "\n",
    "y_pred = svm.predict(X_test)\n",
    "\n",
    "\n",
    "mae = mean_absolute_error(y_test, y_pred)\n",
    "print(f\"Mean Absolute Error (MAE): {mae}\")\n"
   ]
  },
  {
   "cell_type": "code",
   "execution_count": null,
   "id": "e6ff3d1c-8857-4c5e-9a6a-e7cc9fec320d",
   "metadata": {},
   "outputs": [],
   "source": [
    "In the case where both Mean Squared Error (MSE) and Root Mean Squared Error (RMSE) are very close, it\n",
    "is generally recommended to choose RMSE as the evaluation metric for your SVM regression model with a\n",
    "polynomial kernel.\n",
    "\n",
    "RMSE is preferred over MSE in situations where the target variable (in this case, house prices) is \n",
    "measured in the same units as the predictions. This is because RMSE has the advantage of being in the \n",
    "same units as the target variable, which makes it more interpretable. Additionally, RMSE penalizes larger\n",
    "errors more heavily than MSE, which can be beneficial when you want to emphasize the importance of larger\n",
    "errors."
   ]
  },
  {
   "cell_type": "code",
   "execution_count": null,
   "id": "4f3a761f-f9cd-4f7b-af50-069649db799b",
   "metadata": {},
   "outputs": [],
   "source": [
    "If our goal is to measure how well the model explains the variance in the target variable, the most\n",
    "appropriate evaluation metric to use for comparing SVM regression models with different kernels \n",
    "(linear, polynomial, and RBF) would be the coefficient of determination, also known as R-squared.\n",
    "\n",
    "R-squared is a statistical measure that represents the proportion of the variance in the dependent\n",
    "variable (target variable) that is explained by the independent variables (features) in the model. \n",
    "It provides an indication of the goodness of fit of the model and how well it captures the variability\n",
    "in the target variable."
   ]
  },
  {
   "cell_type": "code",
   "execution_count": 5,
   "id": "49c74ef4-0fc6-4444-935b-b42dd05d89ec",
   "metadata": {},
   "outputs": [
    {
     "name": "stdout",
     "output_type": "stream",
     "text": [
      "R-squared for linear kernel: -0.4777584171352611\n",
      "R-squared for polynomial kernel: -0.49971246902849376\n",
      "R-squared for RBF kernel: -0.49622991872782607\n"
     ]
    }
   ],
   "source": [
    "from sklearn.metrics import r2_score\n",
    "\n",
    "\n",
    "svr_linear = SVR(kernel='linear')\n",
    "svr_poly = SVR(kernel='poly')\n",
    "svr_rbf = SVR(kernel='rbf')\n",
    "\n",
    "\n",
    "svr_linear.fit(X_train, y_train)\n",
    "svr_poly.fit(X_train, y_train)\n",
    "svr_rbf.fit(X_train, y_train)\n",
    "\n",
    "\n",
    "y_pred_linear = svr_linear.predict(X_test)\n",
    "y_pred_poly = svr_poly.predict(X_test)\n",
    "y_pred_rbf = svr_rbf.predict(X_test)\n",
    "\n",
    "\n",
    "r2_linear = r2_score(y_test, y_pred_linear)\n",
    "r2_poly = r2_score(y_test, y_pred_poly)\n",
    "r2_rbf = r2_score(y_test, y_pred_rbf)\n",
    "\n",
    "print(f\"R-squared for linear kernel: {r2_linear}\")\n",
    "print(f\"R-squared for polynomial kernel: {r2_poly}\")\n",
    "print(f\"R-squared for RBF kernel: {r2_rbf}\")"
   ]
  },
  {
   "cell_type": "code",
   "execution_count": null,
   "id": "05513dc1-9972-4349-bc0f-810d06021e2a",
   "metadata": {},
   "outputs": [],
   "source": []
  }
 ],
 "metadata": {
  "kernelspec": {
   "display_name": "Python 3 (ipykernel)",
   "language": "python",
   "name": "python3"
  },
  "language_info": {
   "codemirror_mode": {
    "name": "ipython",
    "version": 3
   },
   "file_extension": ".py",
   "mimetype": "text/x-python",
   "name": "python",
   "nbconvert_exporter": "python",
   "pygments_lexer": "ipython3",
   "version": "3.10.8"
  }
 },
 "nbformat": 4,
 "nbformat_minor": 5
}
