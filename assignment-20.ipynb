{
 "cells": [
  {
   "cell_type": "code",
   "execution_count": null,
   "id": "07aebeaa-5e1a-4c7e-884c-62a33cad84b9",
   "metadata": {},
   "outputs": [],
   "source": [
    "\"\"\"\n",
    "Mean: The mean is the average of a set of numbers. It is calculated by adding up all the numbers in the \n",
    "set and then dividing by the total number of numbers. For example, the mean of the numbers 2, 4, 6, and 8 \n",
    "is (2 + 4 + 6 + 8) / 4 = 5.\n",
    "\n",
    "Median: The median is the middle value in a set of numbers when the numbers are arranged in order.\n",
    "If there is an even number of numbers, the median is the average of the two middle numbers. For example,\n",
    "the median of the numbers 1, 3, 5, 7, and 9 is 5.\n",
    "\n",
    "Mode: The mode is the number that appears most frequently in a set of numbers. A set of numbers can have\n",
    "one mode, more than one mode (multimodal), or no mode (no number appears more than once). For example, \n",
    "in the set of numbers 2, 3, 4, 4, 5, 6, 6, 6, the mode is 6 because it appears most frequently.\n",
    "\"\"\""
   ]
  },
  {
   "cell_type": "code",
   "execution_count": null,
   "id": "a8f2c530-531c-400c-a9b9-fb78424a078c",
   "metadata": {},
   "outputs": [],
   "source": [
    "\"\"\"\n",
    "the mean is used when the data are normally distributed and there are no outliers, the median is used when\n",
    "the data are skewed or have outliers, and the mode is used for categorical data or when identifying the \n",
    "most common value in a dataset.\n",
    "\"\"\""
   ]
  },
  {
   "cell_type": "code",
   "execution_count": 2,
   "id": "0a1f0e00-9901-4016-ba2b-2742d38a45dc",
   "metadata": {},
   "outputs": [
    {
     "name": "stdout",
     "output_type": "stream",
     "text": [
      "Mean: 177.02\n",
      "Median: 177.0\n",
      "Mode: 177.0\n"
     ]
    },
    {
     "name": "stderr",
     "output_type": "stream",
     "text": [
      "/tmp/ipykernel_1144/2494972084.py:13: FutureWarning: Unlike other reduction functions (e.g. `skew`, `kurtosis`), the default behavior of `mode` typically preserves the axis it acts along. In SciPy 1.11.0, this behavior will change: the default value of `keepdims` will become False, the `axis` over which the statistic is taken will be eliminated, and the value None will no longer be accepted. Set `keepdims` to True or False to avoid this warning.\n",
      "  mode_height = stats.mode(height_data).mode[0]\n"
     ]
    }
   ],
   "source": [
    "import numpy as np\n",
    "from scipy import stats\n",
    "\n",
    "height_data = np.array([178, 177, 176, 177, 178.2, 178, 175, 179, 180, 175, 178.9, 176.2, 177, 172.5, 178, 176.5])\n",
    "\n",
    "# Mean\n",
    "mean_height = np.mean(height_data)\n",
    "\n",
    "# Median\n",
    "median_height = np.median(height_data)\n",
    "\n",
    "# Mode\n",
    "mode_height = stats.mode(height_data).mode[0]\n",
    "\n",
    "print(f\"Mean: {mean_height:.2f}\")\n",
    "print(f\"Median: {median_height}\")\n",
    "print(f\"Mode: {mode_height}\")\n"
   ]
  },
  {
   "cell_type": "code",
   "execution_count": 3,
   "id": "c9849218-cb9d-44dc-a8bb-301413b363ea",
   "metadata": {},
   "outputs": [
    {
     "name": "stdout",
     "output_type": "stream",
     "text": [
      "Standard Deviation: 1.79\n"
     ]
    }
   ],
   "source": [
    "import numpy as np\n",
    "\n",
    "height_data = np.array([178, 177, 176, 177, 178.2, 178, 175, 179, 180, 175, 178.9, 176.2, 177, 172.5, 178, 176.5])\n",
    "\n",
    "std_dev = np.std(height_data)\n",
    "\n",
    "print(f\"Standard Deviation: {std_dev:.2f}\")\n"
   ]
  },
  {
   "cell_type": "code",
   "execution_count": null,
   "id": "4faae7f4-fdfc-4bc1-83be-4dee1cbdd35c",
   "metadata": {},
   "outputs": [],
   "source": [
    "\"\"\"\n",
    "Measures of dispersion, such as range, variance, and standard deviation, are used to describe the spread \n",
    "or variability of a dataset. They provide information about how spread out the values in the dataset are\n",
    "from the central tendency (mean, median, mode). Here's how each measure is used to describe the spread of\n",
    "a dataset:\n",
    "\n",
    "Range: The range is the simplest measure of dispersion and is calculated as the difference between the\n",
    "maximum and minimum values in a dataset. It provides a rough estimate of the spread of the data. \n",
    "For example, if the range of test scores in a class is 40 points (from 60 to 100), it indicates that\n",
    "there is a wide variability in the scores.\n",
    "\n",
    "Variance: The variance is a more precise measure of dispersion and is calculated as the average of the \n",
    "squared differences between each data point and the mean. A higher variance indicates greater variability\n",
    "in the data. For example, if the variance of a set of test scores is 100, it means that the scores are more \n",
    "spread out from the mean compared to a variance of 50.\n",
    "\n",
    "Standard Deviation: The standard deviation is the square root of the variance and provides a more \n",
    "interpretable measure of dispersion. It represents the average distance of data points from the mean.\n",
    "A larger standard deviation indicates greater variability in the data. For example, if the standard\n",
    "deviation of a set of test scores is 10, it means that most scores are within 10 points of the mean.\n",
    "\"\"\""
   ]
  },
  {
   "cell_type": "code",
   "execution_count": null,
   "id": "5589a856-c466-4a79-8665-8e4f5ace35c5",
   "metadata": {},
   "outputs": [],
   "source": [
    "\"\"\"\n",
    "A Venn diagram is a visual representation of the relationships between different sets of data. \n",
    "It is composed of circles, usually overlapping, that represent the sets. The overlapping areas \n",
    "represent the intersections between the sets, showing common elements shared by the sets. Venn diagrams \n",
    "are commonly used in mathematics, statistics, logic, and computer science to illustrate set theory concepts\n",
    "and to visualize the relationships between different groups or categories of data.\n",
    "\"\"\""
   ]
  },
  {
   "cell_type": "code",
   "execution_count": 4,
   "id": "4d9288ec-6cfe-4acc-9212-d3233b161622",
   "metadata": {},
   "outputs": [
    {
     "name": "stdout",
     "output_type": "stream",
     "text": [
      "Intersection of A and B: {2, 6}\n",
      "Union of A and B: {0, 2, 3, 4, 5, 6, 7, 8, 10}\n"
     ]
    }
   ],
   "source": [
    "A = {2, 3, 4, 5, 6, 7}\n",
    "B = {0, 2, 6, 8, 10}\n",
    "\n",
    "# Intersection of A and B\n",
    "intersection = A.intersection(B)\n",
    "print(f\"Intersection of A and B: {intersection}\")\n",
    "\n",
    "# Union of A and B\n",
    "union = A.union(B)\n",
    "print(f\"Union of A and B: {union}\")\n"
   ]
  },
  {
   "cell_type": "code",
   "execution_count": null,
   "id": "518c7b00-fb81-4378-bc98-1aa1c07f18f9",
   "metadata": {},
   "outputs": [],
   "source": [
    "\"\"\"\n",
    "Skewness in data refers to the asymmetry or lack of symmetry in the distribution of data points. \n",
    "It is a measure of the degree to which a dataset deviates from a normal distribution.\n",
    "\n",
    "Positive Skewness (Right Skew): If the tail on the right side of the distribution is longer or fatter than \n",
    "the left side, the data is said to be positively skewed. This means that there are more data points on the\n",
    "left side of the distribution and the distribution is skewed towards the right. Positive skewness indicates\n",
    "that the mean is greater than the median.\n",
    "\n",
    "Negative Skewness (Left Skew): If the tail on the left side of the distribution is longer or fatter than\n",
    "the right side, the data is said to be negatively skewed. This means that there are more data points on the\n",
    "right side of the distribution and the distribution is skewed towards the left. Negative skewness indicates\n",
    "that the mean is less than the median.\n",
    "\"\"\""
   ]
  },
  {
   "cell_type": "code",
   "execution_count": null,
   "id": "96fceb9c-5109-4560-bcbb-46498cbffe1e",
   "metadata": {},
   "outputs": [],
   "source": [
    "\"\"\"\n",
    "If a data is right skewed, the median will be less than the mean.\n",
    "\"\"\""
   ]
  },
  {
   "cell_type": "code",
   "execution_count": null,
   "id": "bcc2ef1d-33fc-4819-a107-390bbaa4bb7a",
   "metadata": {},
   "outputs": [],
   "source": [
    "\"\"\"\n",
    "Covariance:\n",
    "\n",
    "Covariance measures the extent to which two variables change together.\n",
    "It is calculated as the average of the product of the deviations of each data point from the mean of the \n",
    "respective variables.\n",
    "Covariance can be positive, negative, or zero.\n",
    "The magnitude of the covariance is not standardized, making it difficult to interpret the strength of\n",
    "the relationship.\n",
    "Correlation:\n",
    "\n",
    "Correlation is a standardized measure of the relationship between two variables.\n",
    "It is calculated as the covariance divided by the product of the standard deviations of the variables.\n",
    "Correlation ranges from -1 to 1, where 1 indicates a perfect positive linear relationship, -1 indicates a \n",
    "perfect negative linear relationship, and 0 indicates no linear relationship.\n",
    "Correlation provides a more interpretable measure of the strength and direction of the relationship between\n",
    "variables compared to covariance.\n",
    "\n",
    "How they are used:\n",
    "\n",
    "Covariance: Covariance is used to determine the direction of the relationship between two variables \n",
    "(positive or negative) and whether the relationship is linear or not. However, it does not provide\n",
    "information about the strength of the relationship.\n",
    "Correlation: Correlation is used to measure both the strength and direction of the linear relationship \n",
    "between two variables. It is widely used in statistical analysis, hypothesis testing, and model building\n",
    "to understand the relationship between variables and make predictions based on the data.\n",
    "\"\"\""
   ]
  },
  {
   "cell_type": "code",
   "execution_count": null,
   "id": "fc604dd2-67a6-423c-bc20-d3be2b9d164d",
   "metadata": {},
   "outputs": [],
   "source": [
    "\"\"\"\n",
    " In a normal distribution, the mean is located at the center of the distribution, and the distribution is\n",
    " symmetric around the mean. \n",
    " Therefore, the mean, median, and mode all have the same value.\n",
    "\"\"\""
   ]
  },
  {
   "cell_type": "code",
   "execution_count": null,
   "id": "9739f6f6-fc71-460b-8276-b041035a18b8",
   "metadata": {},
   "outputs": [],
   "source": [
    "\"\"\"\n",
    "Covariance:\n",
    "\n",
    "Covariance measures the extent to which two variables change together.\n",
    "It is calculated as the average of the product of the deviations of each data point from the mean of the \n",
    "respective variables.\n",
    "Covariance can be positive, negative, or zero.\n",
    "The magnitude of the covariance is not standardized, making it difficult to interpret the strength of\n",
    "the relationship.\n",
    "Correlation:\n",
    "\n",
    "Correlation is a standardized measure of the relationship between two variables.\n",
    "It is calculated as the covariance divided by the product of the standard deviations of the variables.\n",
    "Correlation ranges from -1 to 1, where 1 indicates a perfect positive linear relationship, -1 indicates \n",
    "a perfect negative linear relationship, and 0 indicates no linear relationship.\n",
    "Correlation provides a more interpretable measure of the strength and direction of the relationship between \n",
    "variables compared to covariance.\n",
    "\"\"\""
   ]
  },
  {
   "cell_type": "code",
   "execution_count": null,
   "id": "47c155f2-ee54-4d67-a94c-63c2f2640e95",
   "metadata": {},
   "outputs": [],
   "source": [
    "\"\"\"\n",
    "Mean: Outliers can greatly influence the mean. Since the mean is calculated by summing all values and then \n",
    "dividing by the number of values, a single outlier with a very large or very small value can significantly \n",
    "pull the mean in its direction. This can give a misleading representation of the central tendency, \n",
    "especially if the dataset is small.\n",
    "Median: The median is less affected by outliers because it is simply the middle value when the data is \n",
    "sorted. Outliers have less impact on the median because they do not affect the order of other data points.\n",
    "Mode: Outliers do not affect the mode, as the mode is simply the most frequently occurring value in the \n",
    "dataset.\n",
    "\n",
    "Measures of Dispersion:\n",
    "\n",
    "Range: Outliers can affect the range, especially if they are extreme values. The range is the difference \n",
    "between the maximum and minimum values in the dataset, so an outlier can increase the range significantly.\n",
    "Variance and Standard Deviation: Outliers can increase the variance and standard deviation, as these \n",
    "measures are based on the deviations of each data point from the mean. Since outliers can be far from\n",
    "the mean, they can increase the overall variability of the dataset.\n",
    "Example:\n",
    "Consider the following dataset of exam scores: 85, 88, 90, 92, 95, 100, 105. Without the outlier (105),\n",
    "the mean is 90.71. However, with the outlier included, the mean increases to 94.57, showing the impact of\n",
    "the outlier on the mean. The median remains the same at 92, and the mode is still 85. The outlier also\n",
    "increases the range from 20 to 25, and increases the variance and standard deviation, indicating greater \n",
    "variability in the dataset.\n",
    "\"\"\""
   ]
  }
 ],
 "metadata": {
  "kernelspec": {
   "display_name": "Python 3 (ipykernel)",
   "language": "python",
   "name": "python3"
  },
  "language_info": {
   "codemirror_mode": {
    "name": "ipython",
    "version": 3
   },
   "file_extension": ".py",
   "mimetype": "text/x-python",
   "name": "python",
   "nbconvert_exporter": "python",
   "pygments_lexer": "ipython3",
   "version": "3.10.8"
  }
 },
 "nbformat": 4,
 "nbformat_minor": 5
}
