{
 "cells": [
  {
   "cell_type": "code",
   "execution_count": null,
   "id": "258bf40b-8d90-4c07-a232-85da79e9de8e",
   "metadata": {},
   "outputs": [],
   "source": [
    "\"\"\"\n",
    "The Probability Density Function (PDF) is a function that describes the likelihood of a continuous random\n",
    "variable taking on a particular value. For a continuous random variable X, the PDF f(x) is defined such \n",
    "that the probability of X lying in any interval [a, b] is given by the area under the curve of f(x) between\n",
    "a and b\n",
    "\"\"\""
   ]
  },
  {
   "cell_type": "code",
   "execution_count": null,
   "id": "2e2077ca-0646-43b9-8913-a29e2b767802",
   "metadata": {},
   "outputs": [],
   "source": [
    "\"\"\"\n",
    "Normal Distribution: Also known as the Gaussian distribution, it is characterized by a symmetric \n",
    "bell-shaped curve. Many natural phenomena follow a normal distribution, making it widely used in \n",
    "statistics and probability theory.\n",
    "\n",
    "Binomial Distribution: This distribution describes the number of successes in a fixed number of independent\n",
    "Bernoulli trials (experiments with two possible outcomes, usually labeled as success and failure) with a \n",
    "constant probability of success.\n",
    "\n",
    "Poisson Distribution: This distribution models the number of events occurring in a fixed interval of time\n",
    "or space, given a constant average rate of occurrence and events that are independent of the time since the \n",
    "last event.\n",
    "\n",
    "Exponential Distribution: This distribution describes the time between events in a Poisson process, where\n",
    "events occur continuously and independently at a constant average rate.\n",
    "\n",
    "Uniform Distribution: In this distribution, all outcomes are equally likely. It is often used to model \n",
    "situations where each outcome has the same probability, such as rolling a fair die.\n",
    "\n",
    "Bernoulli Distribution: This is a simple distribution with two possible outcomes (usually labeled as \n",
    "success and failure) and a fixed probability of success.\n",
    "\n",
    "Gamma Distribution: This distribution is often used to model the waiting time until a Poisson process \n",
    "reaches a certain number of events.\n",
    "\n",
    "Chi-Square Distribution: This distribution is used in hypothesis testing and to construct confidence \n",
    "intervals for the variance of a normal distribution.\n",
    "\"\"\""
   ]
  },
  {
   "cell_type": "code",
   "execution_count": 4,
   "id": "52a6adb2-acf3-475a-8e10-e4b00922dbfb",
   "metadata": {},
   "outputs": [
    {
     "name": "stdout",
     "output_type": "stream",
     "text": [
      "PDF at x=1: 0.24197072451914337\n"
     ]
    }
   ],
   "source": [
    "from scipy.stats import norm\n",
    "\n",
    "def normal_pdf(x, mean, std_dev):\n",
    "\n",
    "    return norm.pdf(x, loc=mean, scale=std_dev)\n",
    "\n",
    "\n",
    "mean = 0\n",
    "std_dev = 1\n",
    "x = 1\n",
    "pdf_value = normal_pdf(x, mean, std_dev)\n",
    "print(f\"PDF at x={x}: {pdf_value}\")\n"
   ]
  },
  {
   "cell_type": "code",
   "execution_count": null,
   "id": "b6c21189-e1e7-47bf-b71e-3f4cdf3ce4a1",
   "metadata": {},
   "outputs": [],
   "source": [
    "\"\"\"\n",
    "Fixed Number of Trials: The number of trials, denoted as \n",
    "n, is fixed in advance.\n",
    "\n",
    "Independent Trials: Each trial is independent of the others.\n",
    "\n",
    "Two Possible Outcomes: Each trial has only two possible outcomes, often labeled as success (S) \n",
    "and failure (F).\n",
    "\n",
    "Constant Probability of Success: The probability of success, denoted as \n",
    "p, is the same for each trial.\n",
    "\n",
    "Discrete Distribution: The Binomial distribution is a discrete distribution, meaning that the random \n",
    "variable can only take on integer values.\n",
    "\n",
    "Coin Flipping: The number of heads obtained when flipping a coin \n",
    "n times, where success is defined as getting heads.\n",
    "\n",
    "Product Defects: The number of defective products in a sample of \n",
    "n products produced by a machine, where success is defined as a product being defective.\n",
    "\"\"\""
   ]
  },
  {
   "cell_type": "code",
   "execution_count": 7,
   "id": "bb40f941-5587-4c62-9d51-09ace3033465",
   "metadata": {},
   "outputs": [
    {
     "data": {
      "image/png": "[encoded data removed]",
      "text/plain": [
       "<Figure size 640x480 with 1 Axes>"
      ]
     },
     "metadata": {},
     "output_type": "display_data"
    }
   ],
   "source": [
    "import numpy as np\n",
    "import matplotlib.pyplot as plt\n",
    "\n",
    "\n",
    "n = 1000 \n",
    "p = 0.4  \n",
    "\n",
    "sample = np.random.binomial(1, p, n)\n",
    "\n",
    "\n",
    "plt.hist(sample, bins=2, color='skyblue', edgecolor='black', alpha=0.7)\n",
    "plt.xticks([0, 1], ['Failure', 'Success'])\n",
    "plt.xlabel('Outcome')\n",
    "plt.ylabel('Frequency')\n",
    "plt.title('Histogram of Binomial Distribution')\n",
    "plt.show()\n"
   ]
  },
  {
   "cell_type": "code",
   "execution_count": 9,
   "id": "6e56cfb4-441b-4b88-84e0-7b9e8e33a2cb",
   "metadata": {},
   "outputs": [
    {
     "name": "stdout",
     "output_type": "stream",
     "text": [
      "CDF at x=2: 0.42319008112684364\n"
     ]
    }
   ],
   "source": [
    "from scipy.stats import poisson\n",
    "\n",
    "def poisson_cdf(x, mean):\n",
    "    \n",
    "    return poisson.cdf(x, mu=mean)\n",
    "\n",
    "\n",
    "mean = 3\n",
    "x = 2\n",
    "cdf_value = poisson_cdf(x, mean)\n",
    "print(f\"CDF at x={x}: {cdf_value}\")\n"
   ]
  },
  {
   "cell_type": "code",
   "execution_count": null,
   "id": "ba021389-3895-4e52-bec1-c7ca5f50f050",
   "metadata": {},
   "outputs": [],
   "source": [
    "\"\"\"\n",
    "Number of Trials/Events:\n",
    "\n",
    "Binomial Distribution: The Binomial distribution is used to model the number of successes in a fixed \n",
    "number of independent Bernoulli trials, where each trial has only two possible outcomes (usually labeled as \n",
    "success and failure).\n",
    "Poisson Distribution: The Poisson distribution is used to model the number of events occurring in a \n",
    "fixed interval of time or space, given a constant average rate of occurrence and events that are \n",
    "independent of the time since the last event.\n",
    "\n",
    "Assumptions:\n",
    "\n",
    "Binomial Distribution: The Binomial distribution assumes a fixed number of trials (or events) and a constant \n",
    "probability of success for each trial.\n",
    "Poisson Distribution: The Poisson distribution assumes a fixed interval of time or space and a constant \n",
    "average rate of occurrence for events.\n",
    "\n",
    "\"\"\""
   ]
  },
  {
   "cell_type": "code",
   "execution_count": 10,
   "id": "084c2cf3-39f9-4020-9007-47e305ee73ec",
   "metadata": {},
   "outputs": [
    {
     "name": "stdout",
     "output_type": "stream",
     "text": [
      "Sample Mean: 5.01\n",
      "Sample Variance: 5.08\n"
     ]
    }
   ],
   "source": [
    "import numpy as np\n",
    "\n",
    "\n",
    "mean = 5\n",
    "n = 1000  \n",
    "\n",
    "\n",
    "sample = np.random.poisson(mean, n)\n",
    "\n",
    "sample_mean = np.mean(sample)\n",
    "sample_variance = np.var(sample)\n",
    "\n",
    "print(f\"Sample Mean: {sample_mean:.2f}\")\n",
    "print(f\"Sample Variance: {sample_variance:.2f}\")\n"
   ]
  },
  {
   "cell_type": "code",
   "execution_count": null,
   "id": "0aa92b91-103c-487c-a3dc-f14ede0e67b0",
   "metadata": {},
   "outputs": [],
   "source": [
    "\"\"\"\n",
    "In Binomial distribution mean is given by mu=np, and varience is np(1-p)\n",
    "In poision distribution both mean and the varience are the same that is denoted by the lambda\n",
    "that means in binomial distribution the value is dependent on both mean and the varience but in the poision\n",
    "distribution it is dependent on only mean of the data\n",
    "\"\"\""
   ]
  },
  {
   "cell_type": "code",
   "execution_count": null,
   "id": "670a358e-5da2-4cf0-8efc-3851c7fcd3f2",
   "metadata": {},
   "outputs": [],
   "source": [
    "\"\"\"\n",
    "In a normal distribution, the least frequent data points appear at the tails of the distribution, \n",
    "farthest away from the mean.\n",
    "\n",
    "Since the normal distribution is symmetric, the data points that are farthest away from the mean on\n",
    "both sides (the tails) have the lowest frequencies. These data points represent the extreme values \n",
    "of the distribution and occur less frequently compared to the data points closer to the mean.\n",
    "\"\"\""
   ]
  }
 ],
 "metadata": {
  "kernelspec": {
   "display_name": "Python 3 (ipykernel)",
   "language": "python",
   "name": "python3"
  },
  "language_info": {
   "codemirror_mode": {
    "name": "ipython",
    "version": 3
   },
   "file_extension": ".py",
   "mimetype": "text/x-python",
   "name": "python",
   "nbconvert_exporter": "python",
   "pygments_lexer": "ipython3",
   "version": "3.10.8"
  }
 },
 "nbformat": 4,
 "nbformat_minor": 5
}
