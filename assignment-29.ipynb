{
 "cells": [
  {
   "cell_type": "code",
   "execution_count": null,
   "id": "afa81b07-bf80-4a21-8e62-b787b111c185",
   "metadata": {},
   "outputs": [],
   "source": [
    "Ordinal Encoding: In ordinal encoding, each unique category value is assigned a unique integer, starting \n",
    "from 1. This encoding preserves the ordinal relationship between categories, meaning it assumes an inherent\n",
    "order in the categories. For example, if you have a categorical feature \"Size\" with categories \"Small,\"\n",
    "\"Medium,\" and \"Large,\" you might encode them as 1, 2, and 3, respectively.\n",
    "\n",
    "Label Encoding: Label encoding, on the other hand, also converts categorical values into numerical format, \n",
    "but it does not assume any ordinal relationship between the categories. It simply assigns a unique integer\n",
    "to each category, similar to ordinal encoding but without considering any specific order. For example, if\n",
    "you have categories \"Red,\" \"Green,\" and \"Blue,\" label encoding might assign them integers 1, 2, and 3,\n",
    "respectively.\n",
    "\n",
    "When to choose one over the other:\n",
    "\n",
    "Use ordinal encoding when the categorical feature has an inherent order or hierarchy among its categories.\n",
    "For example, size categories like \"Small,\" \"Medium,\" and \"Large\" can be encoded as 1, 2, and 3 to preserve\n",
    "the order.\n",
    "Use label encoding when the categorical feature has no meaningful order or when you want to avoid \n",
    "introducing unintended ordinality. For example, if you are encoding colors, label encoding is more \n",
    "appropriate since colors do not have a natural order.\n",
    "Example:\n",
    "\n",
    "Ordinal Encoding: If you have a dataset with a categorical feature \"Education Level\" with categories\n",
    "\"High School,\" \"Bachelor's,\" \"Master's,\" and \"PhD,\" you might use ordinal encoding to encode them as \n",
    "1, 2, 3, and 4, respectively, to preserve the order.\n",
    "Label Encoding: If you have a dataset with a categorical feature \"Country\" with categories \"USA,\"\n",
    "\"Canada,\" \"France,\" and \"Japan,\" you might use label encoding to encode them as 1, 2, 3, and 4,\n",
    "respectively, since there is no inherent order among these countries."
   ]
  },
  {
   "cell_type": "code",
   "execution_count": null,
   "id": "ad49d25b-907a-4a4f-b5f2-516e4795a4f2",
   "metadata": {},
   "outputs": [],
   "source": [
    "For each category in the categorical variable, calculate the mean or median of the target variable.\n",
    "This means you need to have the target variable as a part of your dataset during encoding.\n",
    "\n",
    "Sort the categories based on their mean or median values, assigning a rank or ordinal number to each\n",
    "category. The category with the lowest mean or median value gets the lowest rank, and so on.\n",
    "\n",
    "Replace the categories in the original categorical variable with their respective ranks.\n",
    "\n",
    "Use the encoded variable in your machine learning model."
   ]
  },
  {
   "cell_type": "code",
   "execution_count": null,
   "id": "d3adf78e-ed94-4591-94b0-0666e4a823e4",
   "metadata": {},
   "outputs": [],
   "source": [
    "Covariance is a statistical measure that describes the relationship between two random variables.\n",
    "It indicates the degree to which two variables change together. In other words, it measures the extent \n",
    "to which two variables tend to move in the same direction (positive covariance) or in opposite directions\n",
    "(negative covariance).\n",
    "\n",
    "Covariance is important in statistical analysis for several reasons:\n",
    "\n",
    "Relationship between variables: Covariance helps to understand the relationship between two variables. \n",
    "If the covariance is positive, it indicates that as one variable increases, the other variable also tends\n",
    "to increase. If the covariance is negative, it indicates that as one variable increases, the other \n",
    "variable tends to decrease.\n",
    "\n",
    "Direction of relationship: Covariance can help determine the direction of the relationship between \n",
    "variables. A positive covariance suggests a positive relationship, while a negative covariance suggests\n",
    "a negative relationship.\n",
    "\n",
    "Strength of relationship: The magnitude of the covariance indicates the strength of the relationship \n",
    "between variables. A larger covariance (positive or negative) indicates a stronger relationship, while \n",
    "a smaller covariance indicates a weaker relationship.\n",
    "\n",
    "Use in other statistical measures: Covariance is used in calculating other statistical measures such as \n",
    "correlation, which is a standardized measure of the relationship between two variables."
   ]
  },
  {
   "cell_type": "code",
   "execution_count": null,
   "id": "66e424a0-06fb-445f-a471-220df107d196",
   "metadata": {},
   "outputs": [],
   "source": [
    "from sklearn.preprocessing import LabelEncoder\n",
    "\n",
    "\n",
    "data = {\n",
    "    'Color': ['red', 'green', 'blue', 'green', 'red'],\n",
    "    'Size': ['small', 'medium', 'large', 'small', 'medium'],\n",
    "    'Material': ['wood', 'metal', 'plastic', 'metal', 'wood']\n",
    "}\n",
    "\n",
    "label_encoder = LabelEncoder()\n",
    "\n",
    "for column in data.columns:\n",
    "    data[column] = label_encoder.fit_transform(data[column])\n",
    "\n",
    "print(data)\n"
   ]
  },
  {
   "cell_type": "code",
   "execution_count": 2,
   "id": "ac219ebc-0091-406e-905c-6ed957a58bdf",
   "metadata": {},
   "outputs": [
    {
     "name": "stdout",
     "output_type": "stream",
     "text": [
      "[[6.25e+01 1.25e+05 2.50e+01]\n",
      " [1.25e+05 2.50e+08 5.00e+04]\n",
      " [2.50e+01 5.00e+04 1.00e+01]]\n"
     ]
    }
   ],
   "source": [
    "import numpy as np\n",
    "\n",
    "data = {\n",
    "    'Age': [25, 30, 35, 40, 45],\n",
    "    'Income': [50000, 60000, 70000, 80000, 90000],\n",
    "    'Education': [12, 14, 16, 18, 20]\n",
    "}\n",
    "\n",
    "dataset = np.array([data['Age'], data['Income'], data['Education']])\n",
    "\n",
    "covariance_matrix = np.cov(dataset)\n",
    "\n",
    "print(covariance_matrix)\n"
   ]
  },
  {
   "cell_type": "code",
   "execution_count": null,
   "id": "1f912014-e73d-4963-a819-e1554f584a33",
   "metadata": {},
   "outputs": [],
   "source": [
    "Gender (Binary):\n",
    "\n",
    "Encoding Method: Use label encoding or one-hot encoding.\n",
    "Explanation: Since gender is binary (Male/Female), you can use label encoding (assigning 0 or 1)\n",
    "or one-hot encoding (creating two binary columns).\n",
    "Education Level (Ordinal):\n",
    "\n",
    "Encoding Method: Use ordinal encoding.\n",
    "Explanation: Education level has a clear order (High School < Bachelor's < Master's < PhD), so ordinal\n",
    "encoding (assigning integer values based on the order) is appropriate.\n",
    "Employment Status (Nominal):\n",
    "\n",
    "Encoding Method: Use one-hot encoding.\n",
    "Explanation: Employment status is nominal (no inherent order), so one-hot encoding\n",
    "(creating binary columns for each category) is suitable to avoid introducing unintended ordinality."
   ]
  },
  {
   "cell_type": "code",
   "execution_count": null,
   "id": "342e3ce5-1730-4407-9691-469d9669f0be",
   "metadata": {},
   "outputs": [],
   "source": [
    "import numpy as np\n",
    "\n",
    "\n",
    "data = {\n",
    "    'Temperature': [25, 28, 22, 20, 30],\n",
    "    'Humidity': [50, 60, 45, 55, 65],\n",
    "    'Weather Condition': ['Sunny', 'Cloudy', 'Rainy', 'Cloudy', 'Sunny'],\n",
    "    'Wind Direction': ['North', 'South', 'East', 'West', 'North']\n",
    "}\n",
    "\n",
    "\n",
    "cov_temp_humidity = np.cov(data['Temperature'], data['Humidity'])[0, 1]\n",
    "\n",
    "cov_temp_weather = {}\n",
    "for condition in set(data['Weather Condition']):\n",
    "    temp_subset = [data['Temperature'][i] for i in range(len(data['Temperature'])) if data['Weather Condition'][i] == condition]\n",
    "    cov_temp_weather[condition] = np.cov(temp_subset, data['Temperature'])[0, 1]\n",
    "\n",
    "cov_temp_wind = {}\n",
    "for direction in set(data['Wind Direction']):\n",
    "    temp_subset = [data['Temperature'][i] for i in range(len(data['Temperature'])) if data['Wind Direction'][i] == direction]\n",
    "    cov_temp_wind[direction] = np.cov(temp_subset, data['Temperature'])[0, 1]\n",
    "\n",
    "print(\"Covariance between Temperature and Humidity:\", cov_temp_humidity)\n",
    "print(\"Covariance between Temperature and Weather Condition:\", cov_temp_weather)\n",
    "print(\"Covariance between Temperature and Wind Direction:\", cov_temp_wind)\n"
   ]
  },
  {
   "cell_type": "code",
   "execution_count": null,
   "id": "965d5094-28b9-4a5d-84db-fe9f3fd71fcd",
   "metadata": {},
   "outputs": [],
   "source": []
  }
 ],
 "metadata": {
  "kernelspec": {
   "display_name": "Python 3 (ipykernel)",
   "language": "python",
   "name": "python3"
  },
  "language_info": {
   "codemirror_mode": {
    "name": "ipython",
    "version": 3
   },
   "file_extension": ".py",
   "mimetype": "text/x-python",
   "name": "python",
   "nbconvert_exporter": "python",
   "pygments_lexer": "ipython3",
   "version": "3.10.8"
  }
 },
 "nbformat": 4,
 "nbformat_minor": 5
}
