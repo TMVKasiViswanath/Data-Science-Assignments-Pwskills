{
 "cells": [
  {
   "cell_type": "code",
   "execution_count": null,
   "id": "d9aa330e-fdf7-45b9-89b3-4772a6c85478",
   "metadata": {},
   "outputs": [],
   "source": [
    "\"\"\"\n",
    "Consistency: Inheriting from Exception ensures your custom exception behaves like other exceptions, \n",
    "making it easier to understand and use.\n",
    "\n",
    "Compatibility: It allows your custom exception to be caught using a catch-all except block for Exception, \n",
    "ensuring consistent handling with other exceptions.\n",
    "\n",
    "Error Handling: Inheriting from Exception gives access to standard error-handling mechanisms \n",
    "like try and except, enabling proper handling of your custom exception.\n",
    "\n",
    "Customization: You can add attributes or methods specific to your application's needs, providing \n",
    "more information or functionality in your custom exception\n",
    "\"\"\""
   ]
  },
  {
   "cell_type": "code",
   "execution_count": null,
   "id": "704b1e48-f3d7-4b1c-a8ee-e62e31129052",
   "metadata": {},
   "outputs": [],
   "source": [
    "def print_exception_hierarchy(exception_class, level=0):\n",
    "    print(\"  \" * level + exception_class.__name__)\n",
    "    for subclass in exception_class.__subclasses__():\n",
    "        print_exception_hierarchy(subclass, level + 1)\n",
    "\n",
    "print(\"Python Exception Hierarchy:\")\n",
    "print_exception_hierarchy(BaseException)\n"
   ]
  },
  {
   "cell_type": "code",
   "execution_count": null,
   "id": "05d1e05a-29b7-40fe-94b6-bf5bf8992772",
   "metadata": {},
   "outputs": [],
   "source": [
    "\"\"\"\n",
    "The ArithmeticError class in Python defines errors that occur during arithmetic operations. \n",
    "Two common errors defined in the ArithmeticError class are ZeroDivisionError and OverflowError\n",
    "\"\"\""
   ]
  },
  {
   "cell_type": "code",
   "execution_count": 2,
   "id": "ee82d91b-064a-46ef-bf1e-958f894405d4",
   "metadata": {},
   "outputs": [
    {
     "name": "stdout",
     "output_type": "stream",
     "text": [
      "Division by zero!\n"
     ]
    }
   ],
   "source": [
    "try:\n",
    "    result = 10 / 0\n",
    "except ZeroDivisionError:\n",
    "    print(\"Division by zero!\")\n"
   ]
  },
  {
   "cell_type": "code",
   "execution_count": 3,
   "id": "dbbe39bc-f191-42f7-8801-0c8eca0971c7",
   "metadata": {},
   "outputs": [],
   "source": [
    "import sys\n",
    "try:\n",
    "    result = sys.maxsize + 1\n",
    "except OverflowError:\n",
    "    print(\"Result is too large to be represented!\")\n"
   ]
  },
  {
   "cell_type": "code",
   "execution_count": null,
   "id": "5725fd66-9960-4dcc-94f1-6d14e45f5670",
   "metadata": {},
   "outputs": [],
   "source": [
    "\"\"\"\n",
    "\n",
    "The LookupError class in Python is used as a base class for exceptions that occur when a key or index\n",
    "used to access a mapping or sequence is invalid. It provides a common base class for exceptions \n",
    "like KeyError and IndexError.\n",
    "\"\"\""
   ]
  },
  {
   "cell_type": "code",
   "execution_count": 4,
   "id": "eace6d16-3001-40c0-9823-290e54fe91f1",
   "metadata": {},
   "outputs": [
    {
     "name": "stdout",
     "output_type": "stream",
     "text": [
      "Key not found!\n"
     ]
    }
   ],
   "source": [
    "my_dict = {'a': 1, 'b': 2, 'c': 3}\n",
    "try:\n",
    "    value = my_dict['d']\n",
    "except KeyError:\n",
    "    print(\"Key not found!\")\n"
   ]
  },
  {
   "cell_type": "code",
   "execution_count": 5,
   "id": "87f70267-c3a2-47a0-a7ec-137842b15a4c",
   "metadata": {},
   "outputs": [
    {
     "name": "stdout",
     "output_type": "stream",
     "text": [
      "Index out of range!\n"
     ]
    }
   ],
   "source": [
    "my_list = [1, 2, 3]\n",
    "try:\n",
    "    value = my_list[3]\n",
    "except IndexError:\n",
    "    print(\"Index out of range!\")\n"
   ]
  },
  {
   "cell_type": "code",
   "execution_count": null,
   "id": "002b04a1-4d2c-4ee3-ae2e-31cb74c517d1",
   "metadata": {},
   "outputs": [],
   "source": [
    "\"\"\"\n",
    "ImportError is a base class for exceptions that occur when an import statement fails to find or load a \n",
    "module. It can occur for various reasons, such as the module not being installed, the module file not \n",
    "being found, or an error occurring while importing the module.\n",
    "\n",
    "ModuleNotFoundError is a subclass of ImportError that specifically occurs when a module could not be found.\n",
    "It was introduced in Python 3.6 to provide a more specific error message when a module is missing.\n",
    "\"\"\""
   ]
  },
  {
   "cell_type": "code",
   "execution_count": 6,
   "id": "89d25734-99d2-461a-9bf0-98cc3cadc04b",
   "metadata": {},
   "outputs": [
    {
     "name": "stdout",
     "output_type": "stream",
     "text": [
      "Module not found or unable to import!\n"
     ]
    }
   ],
   "source": [
    "try:\n",
    "    import nonexistent_module\n",
    "except ImportError:\n",
    "    print(\"Module not found or unable to import!\")\n"
   ]
  },
  {
   "cell_type": "code",
   "execution_count": null,
   "id": "a28b69b3-b491-451d-ad32-33699b96a096",
   "metadata": {},
   "outputs": [],
   "source": [
    "\"\"\"\n",
    "Use Specific Exceptions: Catch specific exceptions rather than using a generic except block. \n",
    "This helps in identifying and handling different types of errors appropriately.\n",
    "\n",
    "Use try-except-else Blocks: Use try blocks to enclose code that may raise an exception, \n",
    "and except blocks to handle specific exceptions. Optionally, use else blocks to execute code that \n",
    "should run if no exceptions are raised.\n",
    "\n",
    "Avoid Bare except: Avoid using bare except blocks (except:) as they catch all exceptions, \n",
    "including system exceptions like KeyboardInterrupt and SystemExit, which can mask errors and make \n",
    "debugging difficult.\n",
    "\n",
    "Use finally for Cleanup: Use finally blocks to ensure that cleanup code (like closing files\n",
    "or releasing resources) is executed, regardless of whether an exception occurs or not.\n",
    "\n",
    "Reraise Exceptions Appropriately: If you catch an exception but cannot handle it completely,\n",
    "consider reraising it using raise without any arguments to propagate it up the call stack.\n",
    "\"\"\""
   ]
  }
 ],
 "metadata": {
  "kernelspec": {
   "display_name": "Python 3 (ipykernel)",
   "language": "python",
   "name": "python3"
  },
  "language_info": {
   "codemirror_mode": {
    "name": "ipython",
    "version": 3
   },
   "file_extension": ".py",
   "mimetype": "text/x-python",
   "name": "python",
   "nbconvert_exporter": "python",
   "pygments_lexer": "ipython3",
   "version": "3.10.8"
  }
 },
 "nbformat": 4,
 "nbformat_minor": 5
}
