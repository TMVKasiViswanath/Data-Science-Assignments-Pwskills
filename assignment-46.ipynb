{
 "cells": [
  {
   "cell_type": "code",
   "execution_count": null,
   "id": "f3655545-2f17-4928-858e-85bfbf8b5e2a",
   "metadata": {},
   "outputs": [],
   "source": [
    "To find the probability that an employee is a smoker given that he/she uses the health insurance plan, \n",
    "we can use Bayes' theorem.\n",
    "\n",
    "Let:\n",
    "\n",
    "A be the event that an employee is a smoker,\n",
    "B be the event that an employee uses the health insurance plan.\n",
    "We are given:\n",
    "\n",
    "P(B) = 0.70 (probability that an employee uses the health insurance plan),\n",
    "P(A|B) = 0.40 (probability that an employee is a smoker given that he/she uses the health insurance plan).\n"
   ]
  },
  {
   "cell_type": "code",
   "execution_count": null,
   "id": "f468f656-cfce-4235-bf02-6e228df3f6f8",
   "metadata": {},
   "outputs": [],
   "source": [
    "Bernoulli Naive Bayes is typically used when the features are binary-valued \n",
    "(i.e., they take on only two values, usually 0 and 1), such as in document classification where each term\n",
    "can be either present (1) or absent (0). It models the presence or absence of each term in the document\n",
    "but not the frequency of terms.\n",
    "\n",
    "Multinomial Naive Bayes, on the other hand, is used when the features represent counts or frequencies of\n",
    "events. It is commonly applied in text classification where each feature represents the frequency of a \n",
    "term (word) in a document. It models the likelihood of observing a particular word in a document given\n",
    "the class."
   ]
  },
  {
   "cell_type": "code",
   "execution_count": null,
   "id": "6143150b-494f-47ae-b9fc-dca5b4660e60",
   "metadata": {},
   "outputs": [],
   "source": [
    "Bernoulli Naive Bayes, like other Naive Bayes variants, typically handles missing values by ignoring \n",
    "them during the calculation of probabilities. When a feature value is missing for a particular instance,\n",
    "that feature is simply not considered when calculating the likelihoods for each class. This means that\n",
    "the presence or absence of a feature (represented as 1 or 0 in the case of Bernoulli Naive Bayes) is not\n",
    "taken into account for instances with missing values for that feature.\n"
   ]
  },
  {
   "cell_type": "code",
   "execution_count": null,
   "id": "08c501cb-5cf0-425a-a0c5-488fd34ba671",
   "metadata": {},
   "outputs": [],
   "source": [
    "Yes, Gaussian Naive Bayes can be used for multi-class classification. It is a variant of the Naive \n",
    "Bayes algorithm that assumes the features follow a Gaussian (normal) distribution. In the context of\n",
    "multi-class classification, Gaussian Naive Bayes estimates the mean and variance of each feature for\n",
    "each class and uses these estimates to predict the class of a given instance.\n"
   ]
  },
  {
   "cell_type": "code",
   "execution_count": 2,
   "id": "520dabcb-9faa-41e2-933c-b7d9e2d91f48",
   "metadata": {},
   "outputs": [
    {
     "name": "stdout",
     "output_type": "stream",
     "text": [
      "Classifier: Bernoulli NB\n",
      "Accuracy: 0.8839\n",
      "              precision    recall  f1-score   support\n",
      "\n",
      "           0       0.89      0.93      0.91      2788\n",
      "           1       0.88      0.82      0.85      1813\n",
      "\n",
      "    accuracy                           0.88      4601\n",
      "   macro avg       0.88      0.87      0.88      4601\n",
      "weighted avg       0.88      0.88      0.88      4601\n",
      "\n",
      "--------------------------------------------------\n",
      "Classifier: Multinomial NB\n",
      "Accuracy: 0.7863\n",
      "              precision    recall  f1-score   support\n",
      "\n",
      "           0       0.82      0.83      0.82      2788\n",
      "           1       0.73      0.72      0.73      1813\n",
      "\n",
      "    accuracy                           0.79      4601\n",
      "   macro avg       0.78      0.78      0.78      4601\n",
      "weighted avg       0.79      0.79      0.79      4601\n",
      "\n",
      "--------------------------------------------------\n",
      "Classifier: Gaussian NB\n",
      "Accuracy: 0.8218\n",
      "              precision    recall  f1-score   support\n",
      "\n",
      "           0       0.96      0.73      0.83      2788\n",
      "           1       0.70      0.96      0.81      1813\n",
      "\n",
      "    accuracy                           0.82      4601\n",
      "   macro avg       0.83      0.85      0.82      4601\n",
      "weighted avg       0.86      0.82      0.82      4601\n",
      "\n",
      "--------------------------------------------------\n"
     ]
    }
   ],
   "source": [
    "import pandas as pd\n",
    "from sklearn.model_selection import cross_val_score\n",
    "from sklearn.naive_bayes import BernoulliNB, MultinomialNB, GaussianNB\n",
    "from sklearn.metrics import classification_report\n",
    "from sklearn.model_selection import cross_val_predict\n",
    "\n",
    "\n",
    "\n",
    "url = \"https://archive.ics.uci.edu/ml/machine-learning-databases/spambase/spambase.data\"\n",
    "data = pd.read_csv(url, header=None)\n",
    "\n",
    "X = data.iloc[:, :-1]\n",
    "y = data.iloc[:, -1]\n",
    "\n",
    "bernoulli_nb = BernoulliNB()\n",
    "multinomial_nb = MultinomialNB()\n",
    "gaussian_nb = GaussianNB()\n",
    "\n",
    "\n",
    "classifiers = [(\"Bernoulli NB\", bernoulli_nb), (\"Multinomial NB\", multinomial_nb), (\"Gaussian NB\", gaussian_nb)]\n",
    "\n",
    "for name, clf in classifiers:\n",
    "    scores = cross_val_score(clf, X, y, cv=10, scoring='accuracy')\n",
    "    y_pred = cross_val_predict(clf, X, y, cv=10)\n",
    "    print(f\"Classifier: {name}\")\n",
    "    print(f\"Accuracy: {scores.mean():.4f}\")\n",
    "    print(classification_report(y, y_pred))\n",
    "    print(\"-\" * 50)\n"
   ]
  },
  {
   "cell_type": "code",
   "execution_count": null,
   "id": "022a5c37-b46f-47c5-8188-6e828991220c",
   "metadata": {},
   "outputs": [],
   "source": []
  }
 ],
 "metadata": {
  "kernelspec": {
   "display_name": "Python 3 (ipykernel)",
   "language": "python",
   "name": "python3"
  },
  "language_info": {
   "codemirror_mode": {
    "name": "ipython",
    "version": 3
   },
   "file_extension": ".py",
   "mimetype": "text/x-python",
   "name": "python",
   "nbconvert_exporter": "python",
   "pygments_lexer": "ipython3",
   "version": "3.10.8"
  }
 },
 "nbformat": 4,
 "nbformat_minor": 5
}
