{
 "cells": [
  {
   "cell_type": "code",
   "execution_count": null,
   "id": "917db3a3-f76f-4d16-8ecf-5ee3b908d7a5",
   "metadata": {},
   "outputs": [],
   "source": [
    "Data encoding is the process of converting data from one form to another, often to facilitate storage,\n",
    "processing, or transmission. In data science, encoding is useful for several reasons:\n",
    "\n",
    "Categorical Data: Encoding categorical variables into numerical values allows machine learning models to\n",
    "interpret them correctly. Common techniques include one-hot encoding and label encoding.\n",
    "\n",
    "Text Data: Encoding text into numerical representations (e.g., word embeddings) enables the use of text\n",
    "data in machine learning models.\n",
    "\n",
    "Compression: Encoding can reduce the size of data, making it more efficient to store and transmit."
   ]
  },
  {
   "cell_type": "code",
   "execution_count": null,
   "id": "9f627f9d-3c9b-4e63-9226-b4220a5e890c",
   "metadata": {},
   "outputs": [],
   "source": [
    "Nominal encoding is a type of encoding used for categorical variables where the \n",
    "categories have no intrinsic order or ranking. It also known as one-hot encoding.\n",
    "\n",
    "In one-hot encoding, each category is represented by a binary vector, where each element in the vector \n",
    "corresponds to a category, and only one element is 1 (indicating the presence of that category) while the\n",
    "rest are 0.\n",
    "\n",
    "\n",
    "Let say you have a dataset of cars, and one of the categorical variables is \"color\" with categories \"red,\n",
    "\" \"blue,\" and \"green.\" After nominal encoding, the \"color\" variable would be represented as three binary \n",
    "variables: \"color_red,\" \"color_blue,\" and \"color_green.\" For a red car, the \"color_red\" variable would be \n",
    "1 and the others 0. For a blue car, \"color_blue\" would be 1 and the others 0, and so on"
   ]
  },
  {
   "cell_type": "code",
   "execution_count": null,
   "id": "6c76dcc6-188b-44c7-96c8-095e44d0683d",
   "metadata": {},
   "outputs": [],
   "source": [
    "Nominal encoding and one-hot encoding are actually the same thing. One-hot encoding is a type of nominal \n",
    "encoding used for categorical variables where the categories have no intrinsic order or ranking.\n",
    "\n",
    "In situations where you have categorical variables without any ordinal relationship\n",
    "(like colors, types of cars, etc.), you would typically use one-hot encoding, which creates binary columns\n",
    "for each category.\n",
    "\n",
    "For example, in a dataset of cars where one of the features is \"color\" with categories \"red,\" \"blue,\" and\n",
    "\"green,\" you would use one-hot encoding to represent each color as a binary variable \n",
    "(e.g., \"color_red,\" \"color_blue,\" \"color_green\") with values of 0 \n",
    "or 1"
   ]
  },
  {
   "cell_type": "code",
   "execution_count": null,
   "id": "2f0b9a61-9584-456a-bd25-8d03e6448b24",
   "metadata": {},
   "outputs": [],
   "source": [
    "If the dataset contains categorical data with 5 unique values and these values do \n",
    "not have an inherent ordinal relationship (i.e., they are nominal), I would use one-hot encoding to\n",
    "transform this data into a format suitable for machine learning algorithms.\n",
    "\n",
    "One-hot encoding would create 5 binary columns, each representing one of the unique values. Each row\n",
    "in the dataset would have a 1 in the column corresponding to its value and 0s in the other columns. \n",
    "This encoding ensures that the machine learning algorithm does not interpret the categorical values as\n",
    "having any ordinal relationship, which is important for maintaining the integrity of the data."
   ]
  },
  {
   "cell_type": "code",
   "execution_count": null,
   "id": "cb9e6c26-89a6-4ba5-93bc-c284e5b25b6e",
   "metadata": {},
   "outputs": [],
   "source": [
    "If you were to use nominal encoding (specifically one-hot encoding) to transform the two categorical \n",
    "columns in the dataset, you would create new binary columns for each unique value in each categorical column\n",
    "\n",
    "Let say the first categorical column has 4 unique values and the second categorical column has 3 \n",
    "unique values.\n",
    "\n",
    "For the first categorical column, you would create 4 new binary columns (one for each unique value), \n",
    "and for the second categorical column, you would create 3 new binary columns.\n",
    "\n",
    "Therefore, the total number of new columns created would be 4 (from the first categorical column) + 3 \n",
    "(from the second categorical column) = 7 new columns."
   ]
  },
  {
   "cell_type": "code",
   "execution_count": null,
   "id": "817f61c2-6c7c-4d7b-877f-4d10d2b11743",
   "metadata": {},
   "outputs": [],
   "source": [
    "To transform the categorical data about different types of animals into a format \n",
    "suitable for machine learning algorithms, I would use a combination of label encoding and one-hot encoding,\n",
    "depending on the nature of the categorical variables.\n",
    "\n",
    "Label Encoding: If the categorical variables have an ordinal relationship (e.g., small, medium, large),\n",
    "I would use label encoding to convert them into numerical values. This allows the algorithm to understand\n",
    "the order or hierarchy within the categories.\n",
    "\n",
    "One-Hot Encoding: For categorical variables without an inherent order or hierarchy (e.g., species, habitat),\n",
    "I would use one-hot encoding. One-hot encoding creates binary columns for each unique category, which helps\n",
    "prevent the algorithm from interpreting these categories as having any ordinal relationship.\n",
    "\n",
    "For example, if there is a categorical variable \"species\" with categories like \"lion,\" \"tiger,\" and \n",
    "\"elephant,\" one-hot encoding would create three binary columns (one for each category) where each row \n",
    "corresponds to a different animal, and the value in each column indicates whether that animal belongs \n",
    "to that species."
   ]
  },
  {
   "cell_type": "code",
   "execution_count": null,
   "id": "9a6901b8-1880-42b2-b1c1-7144fa41e115",
   "metadata": {},
   "outputs": [],
   "source": [
    "Label Encoding: Use label encoding to convert the 'gender' feature into numerical\n",
    "values. For example, 'male' could be encoded as 0 and 'female' as 1.\n",
    "\n",
    "One-Hot Encoding: Use one-hot encoding to convert the 'contract type' feature into binary columns. \n",
    "For example, if the 'contract type' feature has categories 'month-to-month', 'one year', and 'two year', \n",
    "create three new binary columns: 'contract_month-to-month', 'contract_one year', 'contract_two year'.\n",
    "Set the value to 1 in the corresponding column for each customer contract type, and 0 in the other \n",
    "columns.\n",
    "\n",
    "After encoding, the dataset would have numerical values for all features, including the transformed \n",
    "'gender' and 'contract type' features, which can be used for predicting customer churn using machine \n",
    "learning algorithms."
   ]
  }
 ],
 "metadata": {
  "kernelspec": {
   "display_name": "Python 3 (ipykernel)",
   "language": "python",
   "name": "python3"
  },
  "language_info": {
   "codemirror_mode": {
    "name": "ipython",
    "version": 3
   },
   "file_extension": ".py",
   "mimetype": "text/x-python",
   "name": "python",
   "nbconvert_exporter": "python",
   "pygments_lexer": "ipython3",
   "version": "3.10.8"
  }
 },
 "nbformat": 4,
 "nbformat_minor": 5
}
