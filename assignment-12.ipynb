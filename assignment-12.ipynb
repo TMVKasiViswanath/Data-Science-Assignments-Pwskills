{
 "cells": [
  {
   "cell_type": "code",
   "execution_count": null,
   "id": "57808cd1-2a20-4fb2-9b7b-f69af24c3616",
   "metadata": {},
   "outputs": [],
   "source": [
    "\"\"\"\n",
    "\n",
    "Multithreading in Python refers to the ability of a program to execute multiple threads concurrently. \n",
    "A thread is a lightweight sub-process that can run concurrently with other threads. Multithreading is \n",
    "used to achieve parallelism, where multiple tasks are executed simultaneously, making efficient use of\n",
    "the CPU.\n",
    "\n",
    "Multithreading is used in Python for various purposes, such as:\n",
    "\n",
    "Improved Performance: Multithreading can improve the performance of programs by utilizing the available \n",
    "CPU cores more effectively, especially for I/O-bound tasks.\n",
    "\n",
    "Concurrency: It allows multiple operations to be executed concurrently, enabling efficient use of resources \n",
    "and better responsiveness in applications.\n",
    "\n",
    "Asynchronous Programming: Multithreading is often used in asynchronous programming to perform tasks \n",
    "concurrently without blocking the main thread.\n",
    "\n",
    "Parallel Processing: It enables parallel processing of tasks, which is beneficial for tasks that \n",
    "can be divided into smaller parts and executed simultaneously.\n",
    "\"\"\""
   ]
  },
  {
   "cell_type": "code",
   "execution_count": null,
   "id": "35a2a3da-6463-43da-a486-7f816d38ae74",
   "metadata": {},
   "outputs": [],
   "source": [
    "\"\"\"\n",
    "The threading module in Python is used for creating, controlling, and managing threads in a multithreaded \n",
    "environment. It provides a high-level interface for working with threads, allowing developers to create \n",
    "threaded programs easily.\n",
    "\"\"\"\n",
    "\n",
    "\"\"\"\n",
    "Concurrency: It allows multiple tasks to be executed concurrently, improving the efficiency of programs,\n",
    "especially for I/O-bound operations.\n",
    "\n",
    "Parallelism: It enables parallel execution of tasks, utilizing multiple CPU cores for improved performance.\n",
    "\n",
    "Asynchronous Programming: It is used for implementing asynchronous programming patterns, such as callbacks, \n",
    "futures, and coroutines.\n",
    "\n",
    "Synchronization: It provides synchronization primitives like locks, semaphores, and condition variables \n",
    "to coordinate access to shared resources among threads.\n",
    "\"\"\""
   ]
  },
  {
   "cell_type": "code",
   "execution_count": null,
   "id": "f6a36216-36f2-44f8-8101-4d45be2b9f80",
   "metadata": {},
   "outputs": [],
   "source": [
    "\"\"\"\n",
    "run: The run method is called when a Thread object is started using the start method. \n",
    "This method contains the code that will be executed in the new thread. You can override this method \n",
    "in a subclass of Thread to define the behavior of the thread.\n",
    "\n",
    "start: The start method is used to start a new thread of execution. It initializes the thread and calls \n",
    "the run method in a separate thread. It should only be called once per Thread instance. If start is called\n",
    "more than once on the same Thread object, it will raise an RuntimeError.\n",
    "\n",
    "join: The join method is used to wait for the thread to complete its execution. When you call join on a\n",
    "thread, the program will block until the thread finishes. This is useful when you want to wait for the \n",
    "completion of a thread before proceeding with the rest of the program.\n",
    "\n",
    "isAlive: The isAlive method is used to check if the thread is currently executing (True)\n",
    "or has finished executing (False). It returns a boolean value indicating the state of the thread.\n",
    "\"\"\""
   ]
  },
  {
   "cell_type": "code",
   "execution_count": 1,
   "id": "18e9124d-9620-4954-b635-e5e447f2fc31",
   "metadata": {},
   "outputs": [
    {
     "name": "stdout",
     "output_type": "stream",
     "text": [
      "Squares: [1, 4, 9, 16, 25, 36, 49, 64, 81, 100]\n",
      "Cubes: [1, 8, 27, 64, 125, 216, 343, 512, 729, 1000]\n",
      "Done\n"
     ]
    }
   ],
   "source": [
    "import threading\n",
    "\n",
    "def print_squares():\n",
    "    squares = [x*x for x in range(1, 11)]\n",
    "    print(\"Squares:\", squares)\n",
    "\n",
    "def print_cubes():\n",
    "    cubes = [x*x*x for x in range(1, 11)]\n",
    "    print(\"Cubes:\", cubes)\n",
    "\n",
    "# Create thread one to print squares\n",
    "thread1 = threading.Thread(target=print_squares)\n",
    "\n",
    "# Create thread two to print cubes\n",
    "thread2 = threading.Thread(target=print_cubes)\n",
    "\n",
    "\\\n",
    "thread1.start()\n",
    "thread2.start()\n",
    "\n",
    "\n",
    "thread1.join()\n",
    "thread2.join()\n",
    "\n",
    "print(\"Done\")\n"
   ]
  },
  {
   "cell_type": "code",
   "execution_count": null,
   "id": "0545199e-fbe5-4d5c-80b4-d6fece6cbd99",
   "metadata": {},
   "outputs": [],
   "source": [
    "\"\"\"\n",
    "Advantages:\n",
    "\n",
    "Improved Performance: Multithreading can improve the performance of programs by allowing them to perform\n",
    "multiple tasks concurrently. This is particularly useful for tasks that are I/O-bound or that can be\n",
    "parallelized.\n",
    "\n",
    "Better Resource Utilization: Multithreading allows programs to make better use of available resources, \n",
    "such as CPU cores, by running multiple threads simultaneously.\n",
    "\n",
    "Enhanced Responsiveness: Multithreading can improve the responsiveness of applications, especially \n",
    "user interfaces, by allowing them to continue running smoothly while performing other tasks in the \n",
    "background.\n",
    "\n",
    "Disadvantages:\n",
    "\n",
    "Complexity: Multithreaded programs can be more complex to design, implement, and debug compared to \n",
    "single-threaded programs. This complexity arises from the need to manage synchronization, data sharing, \n",
    "and communication between threads.\n",
    "\n",
    "Synchronization Issues: Multithreading can introduce synchronization issues, such as race conditions \n",
    "and deadlocks, where two or more threads are blocked indefinitely, waiting for each other to release a\n",
    "resource.\n",
    "\n",
    "Resource Overhead: Multithreading can introduce additional resource overhead, such as increased memory \n",
    "usage and CPU utilization, due to the need to manage multiple threads.\n",
    "\"\"\""
   ]
  },
  {
   "cell_type": "code",
   "execution_count": 2,
   "id": "6be0d7bf-18f5-4bc9-a872-2cecc8fda253",
   "metadata": {},
   "outputs": [
    {
     "data": {
      "text/plain": [
       "\"\\nDeadlocks:\\n\\nDeadlock occurs when two or more threads are blocked forever, waiting for each other to release a resource.\\nDeadlocks typically occur when multiple threads acquire locks on resources in a circular manner, and each \\nthread is waiting for a resource that is held by another thread.\\nDeadlocks can cause the entire program to become unresponsive and require intervention to resolve.\\n\\nRace Conditions:\\n\\nRace conditions occur when the outcome of a program depends on the timing or interleaving of operations \\nin concurrent threads.\\nRace conditions can lead to unexpected or incorrect behavior, as the program's behavior may change \\ndepending on the order in which threads are executed.\\nRace conditions often occur when multiple threads are accessing or modifying shared resources without proper synchronization.\\n\""
      ]
     },
     "execution_count": 2,
     "metadata": {},
     "output_type": "execute_result"
    }
   ],
   "source": [
    "\"\"\"\n",
    "Deadlocks:\n",
    "\n",
    "Deadlock occurs when two or more threads are blocked forever, waiting for each other to release a resource.\n",
    "Deadlocks typically occur when multiple threads acquire locks on resources in a circular manner, and each \n",
    "thread is waiting for a resource that is held by another thread.\n",
    "Deadlocks can cause the entire program to become unresponsive and require intervention to resolve.\n",
    "\n",
    "Race Conditions:\n",
    "\n",
    "Race conditions occur when the outcome of a program depends on the timing or interleaving of operations \n",
    "in concurrent threads.\n",
    "Race conditions can lead to unexpected or incorrect behavior, as the program's behavior may change \n",
    "depending on the order in which threads are executed.\n",
    "Race conditions often occur when multiple threads are accessing or modifying shared resources without \n",
    "proper synchronization.\n",
    "\"\"\""
   ]
  },
  {
   "cell_type": "code",
   "execution_count": null,
   "id": "1099179b-f150-4f9e-924d-85c9211bc315",
   "metadata": {},
   "outputs": [],
   "source": []
  }
 ],
 "metadata": {
  "kernelspec": {
   "display_name": "Python 3 (ipykernel)",
   "language": "python",
   "name": "python3"
  },
  "language_info": {
   "codemirror_mode": {
    "name": "ipython",
    "version": 3
   },
   "file_extension": ".py",
   "mimetype": "text/x-python",
   "name": "python",
   "nbconvert_exporter": "python",
   "pygments_lexer": "ipython3",
   "version": "3.10.8"
  }
 },
 "nbformat": 4,
 "nbformat_minor": 5
}
