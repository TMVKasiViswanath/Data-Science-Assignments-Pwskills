{
 "cells": [
  {
   "cell_type": "code",
   "execution_count": null,
   "id": "626a3b8a-64c1-4a02-b202-c6f3d73818f4",
   "metadata": {},
   "outputs": [],
   "source": [
    "\"\"\"\n",
    "A database is a structured collection of data that is organized in a way that enables efficient storage, \n",
    "retrieval, and management of data. It is a key component of most modern software applications and is used\n",
    "to store and manage large volumes of data.\n",
    "\n",
    "SQL Databases:\n",
    "\n",
    "SQL databases are relational databases that store data in tables with rows and columns.\n",
    "They use SQL as the query language for interacting with the database.\n",
    "SQL databases are well-suited for applications with structured data and complex queries, such as\n",
    "transactional systems, e-commerce platforms, and financial applications.\n",
    "Examples of SQL databases include MySQL, PostgreSQL, Oracle Database, and Microsoft SQL Server.\n",
    "\n",
    "NoSQL Databases:\n",
    "\n",
    "NoSQL databases are non-relational databases that store data in a variety of formats, including key-value\n",
    "pairs, documents, and graphs.\n",
    "They use query languages that are specific to the type of database, such as MongoDB's query language \n",
    "for document databases.\n",
    "NoSQL databases are well-suited for applications with large volumes of unstructured or semi-structured data, such as big data analytics, real-time web applications, and content management systems.\n",
    "Examples of NoSQL databases include MongoDB, Cassandra, Couchbase, and Redis.\n",
    "\"\"\""
   ]
  },
  {
   "cell_type": "code",
   "execution_count": null,
   "id": "85415e4f-891f-4967-930c-ca7f423398a0",
   "metadata": {},
   "outputs": [],
   "source": [
    "\"\"\"\n",
    "DDL (Data Definition Language) is a subset of SQL (Structured Query Language) used to define the structure \n",
    "of a database and its objects. DDL statements are used to create, modify, and delete database objects such \n",
    "as tables, indexes, and views\n",
    "\"\"\""
   ]
  },
  {
   "cell_type": "code",
   "execution_count": null,
   "id": "dd711346-253e-414f-a0e1-0dc278a31be1",
   "metadata": {},
   "outputs": [],
   "source": [
    "\"\"\"\n",
    "CREATE: The CREATE statement is used to create new database objects such as tables, indexes, views, and \n",
    "databases themselves. It specifies the name of the object, its columns (for tables), and other attributes.\n",
    "\n",
    "DROP: The DROP statement is used to delete existing database objects. \n",
    "It completely removes the object and its data from the database.\n",
    "\n",
    "ALTER: The ALTER statement is used to modify existing database objects. \n",
    "It can be used to add, modify, or drop columns, constraints, or indexes.\n",
    "\n",
    "TRUNCATE: The TRUNCATE statement is used to remove all rows from a table, but the table structure and\n",
    "its columns remain intact. It is faster than DELETE for large tables because it does not generate\n",
    "individual DELETE statements for each row.\n",
    "\"\"\"\n"
   ]
  },
  {
   "cell_type": "code",
   "execution_count": null,
   "id": "286e80ea-8d4b-4e4a-a520-fe5bf0f7a23d",
   "metadata": {},
   "outputs": [],
   "source": [
    "\"\"\"\n",
    "DML (Data Manipulation Language) is a subset of SQL (Structured Query Language) used to manipulate data \n",
    "stored in a database. DML statements are used to insert, update, delete, and retrieve data from database \n",
    "tables. The main DML statements include:\n",
    "\n",
    "INSERT: The INSERT statement is used to add new rows of data into a table. It specifies the table name and\n",
    "the values to be inserted into each column.\n",
    "\n",
    "UPDATE: The UPDATE statement is used to modify existing rows of data in a table. It specifies the table name, \n",
    "the columns to be updated, and the new values.\n",
    "\n",
    "DELETE: The DELETE statement is used to remove rows of data from a table. It specifies the table name and an\n",
    "optional WHERE clause to specify which rows to delete\n",
    "\n",
    "\n",
    "\n",
    "\"\"\""
   ]
  },
  {
   "cell_type": "code",
   "execution_count": null,
   "id": "99e1ea14-6f96-4a45-8f89-76dc4c634c6d",
   "metadata": {},
   "outputs": [],
   "source": [
    "\"\"\"\n",
    "DQL (Data Query Language) is a subset of SQL (Structured Query Language) used to retrieve data from a\n",
    "database. DQL statements are used to query the database tables to retrieve specific information. \n",
    "\n",
    "SELECT: The SELECT statement is used to retrieve data from one or more tables. It specifies the columns \n",
    "to retrieve and the table or tables from which to retrieve the data. It can also include various clauses\n",
    "to filter, sort, and group the results.\n",
    "\"\"\"\n",
    "SELECT id, name, age\n",
    "FROM employees\n",
    "WHERE age > 30\n",
    "ORDER BY name ASC;\n"
   ]
  },
  {
   "cell_type": "code",
   "execution_count": null,
   "id": "49c1dcea-4551-499e-b502-fdaad6ebaef3",
   "metadata": {},
   "outputs": [],
   "source": [
    "\"\"\"\n",
    "A primary key is a column or a set of columns that uniquely identifies each row in a table.\n",
    "It must contain unique values and cannot contain NULL values.\n",
    "Primary keys are used to ensure the integrity of the data by uniquely identifying each record in the table.\n",
    "Only one primary key can be defined for a table.\n",
    "\"\"\"\n",
    "CREATE TABLE employees (\n",
    "    id INT PRIMARY KEY,\n",
    "    name VARCHAR(255),\n",
    "    age INT\n",
    ");\n"
   ]
  },
  {
   "cell_type": "code",
   "execution_count": null,
   "id": "9a46da36-4f90-47d6-9cd5-86233c78df1f",
   "metadata": {},
   "outputs": [],
   "source": []
  }
 ],
 "metadata": {
  "kernelspec": {
   "display_name": "Python 3 (ipykernel)",
   "language": "python",
   "name": "python3"
  },
  "language_info": {
   "codemirror_mode": {
    "name": "ipython",
    "version": 3
   },
   "file_extension": ".py",
   "mimetype": "text/x-python",
   "name": "python",
   "nbconvert_exporter": "python",
   "pygments_lexer": "ipython3",
   "version": "3.10.8"
  }
 },
 "nbformat": 4,
 "nbformat_minor": 5
}
