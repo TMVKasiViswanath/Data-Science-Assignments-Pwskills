{
 "cells": [
  {
   "cell_type": "code",
   "execution_count": null,
   "id": "eb9e9127-e13b-480f-8b99-6912027ee9d0",
   "metadata": {},
   "outputs": [],
   "source": [
    "Artificial Intelligence (AI): Artificial Intelligence refers to the simulation of human intelligence in \n",
    "machines that are programmed to think and mimic human actions. AI encompasses a wide range of techniques \n",
    "and approaches aimed at creating machines that can perform tasks that typically require human intelligence,\n",
    "such as visual perception, speech recognition, decision-making, and language translation. For example,\n",
    "a chatbot that can engage in a conversation with a human is an application of AI.\n",
    "\n",
    "Machine Learning (ML): Machine Learning is a subset of AI that involves the development of algorithms and \n",
    "statistical models that enable computers to learn from and make predictions or decisions based on data.\n",
    "Instead of being explicitly programmed to perform a task, machine learning algorithms are trained on data \n",
    "to identify patterns and make decisions. For example, a machine learning model could be trained on a\n",
    "dataset of images to recognize and classify different objects in new images.\n",
    "\n",
    "Deep Learning: Deep Learning is a subset of machine learning that focuses on artificial neural networks,\n",
    "which are inspired by the structure and function of the human brain. Deep learning algorithms attempt to \n",
    "model high-level abstractions in data by using multiple layers of non-linear processing units. Deep \n",
    "learning has been particularly successful in tasks such as image and speech recognition. For example,\n",
    "a deep learning model called a Convolutional Neural Network (CNN) can be used to classify images based \n",
    "on their contents.\n",
    "\n"
   ]
  },
  {
   "cell_type": "code",
   "execution_count": null,
   "id": "96bcc776-7271-4658-87bd-b2f10904bdf4",
   "metadata": {},
   "outputs": [],
   "source": [
    "Supervised learning is a type of machine learning where the model is trained on a labeled dataset, which \n",
    "means the dataset includes both input data and corresponding correct output. The goal of supervised \n",
    "learning is to learn a mapping from inputs to outputs so that it can make predictions on new, unseen data.\n",
    "\n",
    "Examples of supervised learning include:\n",
    "\n",
    "Classification: This involves predicting a categorical label. For example, given information about a\n",
    "patient (such as age, blood pressure, and cholesterol levels), predict whether they have a particular\n",
    "disease (e.g., diabetes or not).\n",
    "\n",
    "Regression: This involves predicting a continuous value. For example, given information about a house\n",
    "(such as size, number of bedrooms, and location), predict its selling price.\n",
    "\n",
    "Example: Suppose you have a dataset of emails, where each email is labeled as \"spam\" or \"not spam\". \n",
    "You can use this dataset to train a supervised learning model (e.g., a Naive Bayes classifier or a \n",
    "Support Vector Machine) to classify new, unseen emails as spam or not spam based on their content.\n"
   ]
  },
  {
   "cell_type": "code",
   "execution_count": null,
   "id": "4eabe7a7-9282-4644-9206-a7f685b46556",
   "metadata": {},
   "outputs": [],
   "source": [
    "Unsupervised learning is a type of machine learning where the model is trained on an unlabeled dataset, \n",
    "meaning the dataset does not have any corresponding target variable or correct output. The goal of\n",
    "unsupervised learning is to learn the underlying structure or patterns in the data.\n",
    "\n",
    "Examples of unsupervised learning include:\n",
    "\n",
    "Clustering: This involves grouping similar data points together. For example, clustering algorithms can be \n",
    "used to group customers based on their purchasing behavior, helping businesses understand their customer \n",
    "segments.\n",
    "\n",
    "Dimensionality reduction: This involves reducing the number of input variables in the data. For example,\n",
    "Principal Component Analysis (PCA) can be used to reduce the dimensions of a dataset while retaining most\n",
    "of the variance in the data.\n",
    "\n",
    "Anomaly detection: This involves identifying rare items, events, or observations which raise suspicions by\n",
    "differing significantly from the majority of the data. Anomaly detection can be used in various \n",
    "applications such as fraud detection in finance or identifying defects in manufacturing."
   ]
  },
  {
   "cell_type": "code",
   "execution_count": null,
   "id": "549fc6d6-0519-4525-b8c6-7becc859f0dc",
   "metadata": {},
   "outputs": [],
   "source": [
    "Artificial Intelligence (AI): AI is a broad field of computer science that aims to create machines or \n",
    "systems that can perform tasks that typically require human intelligence, such as understanding natural\n",
    "language, recognizing patterns in data, and making decisions. AI encompasses a wide range of techniques,\n",
    "including machine learning and deep learning.\n",
    "\n",
    "Machine Learning (ML): ML is a subset of AI that focuses on developing algorithms and statistical models\n",
    "that enable computers to learn from and make predictions or decisions based on data. ML algorithms are\n",
    "trained on data to identify patterns and make decisions without being explicitly programmed to perform \n",
    "a specific task.\n",
    "\n",
    "Deep Learning (DL): DL is a subset of ML that focuses on artificial neural networks, which are inspired\n",
    "by the structure and function of the human brain. DL algorithms attempt to model high-level abstractions \n",
    "in data by using multiple layers of non-linear processing units. DL has been particularly successful in \n",
    "tasks such as image and speech recognition.\n",
    "\n",
    "Data Science (DS): DS is an interdisciplinary field that uses scientific methods, processes, algorithms,\n",
    "and systems to extract knowledge and insights from structured and unstructured data. DS combines elements\n",
    "of statistics, machine learning, computer science, domain knowledge, and visualization to analyze and \n",
    "interpret complex data sets."
   ]
  },
  {
   "cell_type": "code",
   "execution_count": null,
   "id": "a9b7d57f-02d8-4ca6-a1b8-206b293fe229",
   "metadata": {},
   "outputs": [],
   "source": [
    "Supervised Learning: In supervised learning, the model is trained on a labeled \n",
    "dataset, where each example is paired with the correct output. The goal is to learn a mapping from inputs\n",
    "to outputs. During training, the model adjusts its parameters to minimize the difference between its \n",
    "predictions and the true outputs. Examples include classification and regression tasks.\n",
    "\n",
    "Unsupervised Learning: In unsupervised learning, the model is trained on an unlabeled dataset, where\n",
    "no explicit output is provided. The goal is to learn the underlying structure or patterns in the data.\n",
    "Common tasks in unsupervised learning include clustering, dimensionality reduction, and anomaly detection.\n",
    "\n",
    "Semi-Supervised Learning: Semi-supervised learning is a combination of supervised and unsupervised learning.\n",
    "In semi-supervised learning, the model is trained on a dataset that contains both labeled and unlabeled \n",
    "examples. The model uses the labeled examples to learn the underlying structure of the data and then uses\n",
    "this knowledge to make predictions on the unlabeled examples. Semi-supervised learning is useful when\n",
    "labeled data is scarce or expensive to obtain."
   ]
  },
  {
   "cell_type": "code",
   "execution_count": null,
   "id": "ad8d45b1-90af-44f7-b291-68839af9d2b8",
   "metadata": {},
   "outputs": [],
   "source": [
    "Training Set: The training set is a subset of the dataset used to train the model. The model learns from \n",
    "the features (inputs) and labels (outputs) in the training set to make predictions.\n",
    "\n",
    "Validation Set: The validation set is a subset of the dataset used to tune hyperparameters and evaluate \n",
    "the performance of the model during training. It helps prevent overfitting by providing an unbiased \n",
    "evaluation of the models performance.\n",
    "\n",
    "Test Set: The test set is a subset of the dataset used to evaluate the final performance of the trained \n",
    "model. It provides an estimate of how well the model will generalize to new, unseen data."
   ]
  },
  {
   "cell_type": "code",
   "execution_count": null,
   "id": "55aa1f3e-f4f7-44e5-ad97-24b6652175ce",
   "metadata": {},
   "outputs": [],
   "source": [
    "Clustering: Unsupervised learning algorithms such as K-means clustering or DBSCAN can be used to cluster \n",
    "data points. Anomalies are then identified as data points that do not belong to any cluster or are in a \n",
    "cluster of very low density.\n",
    "\n",
    "Density Estimation: Density-based anomaly detection methods like Local Outlier Factor (LOF) or Isolation \n",
    "Forest can be used to estimate the density of data points. Anomalies are identified as data points that\n",
    "have significantly lower density compared to their neighbors.\n",
    "\n",
    "Dimensionality Reduction: Techniques like Principal Component Analysis (PCA) can be used to reduce the \n",
    "dimensionality of the data while retaining most of the variance. Anomalies can be identified by analyzing \n",
    "the residual errors or reconstruction errors of the data points.\n",
    "\n",
    "One-Class Classification: One-class classification algorithms, such as One-Class SVM, are trained on \n",
    "normal data points only. They then classify new data points as either normal or anomalous based on their\n",
    "similarity to the training data."
   ]
  },
  {
   "cell_type": "code",
   "execution_count": null,
   "id": "3bdc4150-c423-4d7f-8bc3-91fd8f8eb938",
   "metadata": {},
   "outputs": [],
   "source": [
    "Supervised Learning Algorithms:\n",
    "\n",
    "Linear Regression\n",
    "Logistic Regression\n",
    "Decision Trees\n",
    "Random Forest\n",
    "Support Vector Machines (SVM)\n",
    "Gradient Boosting Machines (GBM)\n",
    "Neural Networks\n",
    "Unsupervised Learning Algorithms:\n",
    "\n",
    "K-means Clustering\n",
    "Hierarchical Clustering\n",
    "Principal Component Analysis (PCA)\n",
    "Anomaly Detection Algorithms\n",
    "Association Rule Learning Algorithms\n",
    "Self-Organizing Maps (SOM)"
   ]
  }
 ],
 "metadata": {
  "kernelspec": {
   "display_name": "Python 3 (ipykernel)",
   "language": "python",
   "name": "python3"
  },
  "language_info": {
   "codemirror_mode": {
    "name": "ipython",
    "version": 3
   },
   "file_extension": ".py",
   "mimetype": "text/x-python",
   "name": "python",
   "nbconvert_exporter": "python",
   "pygments_lexer": "ipython3",
   "version": "3.10.8"
  }
 },
 "nbformat": 4,
 "nbformat_minor": 5
}
