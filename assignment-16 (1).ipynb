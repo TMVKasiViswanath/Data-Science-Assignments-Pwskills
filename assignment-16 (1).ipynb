{
 "cells": [
  {
   "cell_type": "code",
   "execution_count": 1,
   "id": "a56d797f-0515-4bcb-9c8d-77bff9acaee0",
   "metadata": {},
   "outputs": [
    {
     "name": "stdout",
     "output_type": "stream",
     "text": [
      "0     4\n",
      "1     8\n",
      "2    15\n",
      "3    16\n",
      "4    23\n",
      "5    42\n",
      "dtype: int64\n"
     ]
    }
   ],
   "source": [
    "import pandas as pd\n",
    "\n",
    "data = [4, 8, 15, 16, 23, 42]\n",
    "series = pd.Series(data)\n",
    "print(series)\n"
   ]
  },
  {
   "cell_type": "code",
   "execution_count": 2,
   "id": "430f49a3-7f01-491c-bbd5-3482112caf32",
   "metadata": {},
   "outputs": [
    {
     "name": "stdout",
     "output_type": "stream",
     "text": [
      "0     1\n",
      "1     2\n",
      "2     3\n",
      "3     4\n",
      "4     5\n",
      "5     6\n",
      "6     7\n",
      "7     8\n",
      "8     9\n",
      "9    10\n",
      "dtype: int64\n"
     ]
    }
   ],
   "source": [
    "import pandas as pd\n",
    "\n",
    "my_list = [1, 2, 3, 4, 5, 6, 7, 8, 9, 10]\n",
    "\n",
    "\n",
    "my_series = pd.Series(my_list)\n",
    "\n",
    "\n",
    "print(my_series)\n"
   ]
  },
  {
   "cell_type": "code",
   "execution_count": null,
   "id": "0b728948-c482-484e-af71-aa6a5a27f26a",
   "metadata": {},
   "outputs": [],
   "source": [
    "\"\"\"\n",
    " a DataFrame is a two-dimensional, size-mutable, and potentially heterogeneous tabular data structure with \n",
    " labeled axes (rows and columns). It is similar to a spreadsheet or SQL table, where each column can be a\n",
    " different data type (e.g., integer, float, string) and each row represents a unique record.\n",
    "\n",
    "On the other hand, a Series is a one-dimensional labeled array capable of holding any data type.\n",
    "It is like a single column of a DataFrame.\n",
    "\"\"\""
   ]
  },
  {
   "cell_type": "code",
   "execution_count": 3,
   "id": "c622a3bd-e467-4c21-93de-660a7f61b472",
   "metadata": {},
   "outputs": [
    {
     "name": "stdout",
     "output_type": "stream",
     "text": [
      "DataFrame:\n",
      "      Name  Age         City\n",
      "0    Alice   25     New York\n",
      "1      Bob   30  Los Angeles\n",
      "2  Charlie   35      Chicago\n",
      "3    David   40      Houston\n",
      "\n",
      "Series:\n",
      "0    10\n",
      "1    20\n",
      "2    30\n",
      "3    40\n",
      "dtype: int64\n"
     ]
    }
   ],
   "source": [
    "import pandas as pd\n",
    "\n",
    "\n",
    "data = {'Name': ['Alice', 'Bob', 'Charlie', 'David'],\n",
    "        'Age': [25, 30, 35, 40],\n",
    "        'City': ['New York', 'Los Angeles', 'Chicago', 'Houston']}\n",
    "df = pd.DataFrame(data)\n",
    "\n",
    "\n",
    "series = pd.Series([10, 20, 30, 40])\n",
    "\n",
    "print(\"DataFrame:\")\n",
    "print(df)\n",
    "print(\"\\nSeries:\")\n",
    "print(series)\n"
   ]
  },
  {
   "cell_type": "code",
   "execution_count": 4,
   "id": "f9dbd7a1-126b-4132-bd86-bfe316fdf4c1",
   "metadata": {},
   "outputs": [
    {
     "name": "stdout",
     "output_type": "stream",
     "text": [
      "      Name  Age         City\n",
      "0    Alice   25     New York\n",
      "1      Bob   30  Los Angeles\n",
      "2  Charlie   35      Chicago\n",
      "3    David   40      Houston\n",
      "      Name  Age         City\n",
      "1      Bob   30  Los Angeles\n",
      "2  Charlie   35      Chicago\n",
      "3    David   40      Houston\n",
      "<class 'pandas.core.frame.DataFrame'>\n",
      "RangeIndex: 4 entries, 0 to 3\n",
      "Data columns (total 3 columns):\n",
      " #   Column  Non-Null Count  Dtype \n",
      "---  ------  --------------  ----- \n",
      " 0   Name    4 non-null      object\n",
      " 1   Age     4 non-null      int64 \n",
      " 2   City    4 non-null      object\n",
      "dtypes: int64(1), object(2)\n",
      "memory usage: 224.0+ bytes\n",
      "             Age\n",
      "count   4.000000\n",
      "mean   32.500000\n",
      "std     6.454972\n",
      "min    25.000000\n",
      "25%    28.750000\n",
      "50%    32.500000\n",
      "75%    36.250000\n",
      "max    40.000000\n",
      "      Name  Age\n",
      "2  Charlie   35\n",
      "3    David   40\n",
      "25\n"
     ]
    }
   ],
   "source": [
    "print(df.head())  # View the first 5 rows\n",
    "print(df.tail(3))  # View the last 3 rows\n",
    "df.info()\n",
    "print(df.describe())\n",
    "print(df.loc[2:4, ['Name', 'Age']])  # Select rows 2 to 4 and columns 'Name' and 'Age'\n",
    "print(df.iloc[0, 1])  # Select the value at row 0, column 1\n",
    "df = df.drop(columns=['City'])  # Drop the 'City' column\n",
    "df = df.fillna(value=0)  # Fill missing values with 0\n"
   ]
  },
  {
   "cell_type": "code",
   "execution_count": null,
   "id": "6e67a3e8-34cd-4673-86cc-e0bdcfd2f806",
   "metadata": {},
   "outputs": [],
   "source": [
    "\"\"\"\n",
    "In Pandas, both Series and DataFrame are mutable, meaning you can change their values, \n",
    "add new rows or columns, and modify existing data. However, Panel is considered deprecated \n",
    "and has been removed in more recent versions of Pandas, so it is not applicable here.\n",
    "\"\"\""
   ]
  },
  {
   "cell_type": "code",
   "execution_count": 5,
   "id": "f6580df9-791c-4271-b424-cc79d7b277c1",
   "metadata": {},
   "outputs": [
    {
     "name": "stdout",
     "output_type": "stream",
     "text": [
      "   A  B   C\n",
      "0  1  5   9\n",
      "1  2  6  10\n",
      "2  3  7  11\n",
      "3  4  8  12\n"
     ]
    }
   ],
   "source": [
    "import pandas as pd\n",
    "s1 = pd.Series([1, 2, 3, 4], name='A')\n",
    "s2 = pd.Series([5, 6, 7, 8], name='B')\n",
    "s3 = pd.Series([9, 10, 11, 12], name='C')\n",
    "\n",
    "\n",
    "df = pd.DataFrame({s1.name: s1, s2.name: s2, s3.name: s3})\n",
    "\n",
    "\n",
    "print(df)\n"
   ]
  },
  {
   "cell_type": "code",
   "execution_count": null,
   "id": "ef1a5613-4665-4d11-bf05-fe7b0a6cf78f",
   "metadata": {},
   "outputs": [],
   "source": []
  }
 ],
 "metadata": {
  "kernelspec": {
   "display_name": "Python 3 (ipykernel)",
   "language": "python",
   "name": "python3"
  },
  "language_info": {
   "codemirror_mode": {
    "name": "ipython",
    "version": 3
   },
   "file_extension": ".py",
   "mimetype": "text/x-python",
   "name": "python",
   "nbconvert_exporter": "python",
   "pygments_lexer": "ipython3",
   "version": "3.10.8"
  }
 },
 "nbformat": 4,
 "nbformat_minor": 5
}
