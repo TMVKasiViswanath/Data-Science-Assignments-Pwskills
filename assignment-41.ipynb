{
 "cells": [
  {
   "cell_type": "code",
   "execution_count": null,
   "id": "962f3c10-2f2f-40dd-ae89-3d1952445674",
   "metadata": {},
   "outputs": [],
   "source": [
    "How It Works:\n",
    "\n",
    "Starts with the entire dataset as the root node and splits it into smaller subsets.\n",
    "Selects the best feature to split on at each node based on certain criteria (e.g., Gini impurity, entropy).\n",
    "Continues splitting until reaching a stopping criterion (e.g., maximum tree depth, minimum number of data\n",
    "                                                         points in a subset).\n",
    "Making Predictions:\n",
    "\n",
    "For a new data point, starts at the root node and traverses down the tree based on feature values.\n",
    "Reaches a leaf node, where the majority class is assigned as the predicted class."
   ]
  },
  {
   "cell_type": "code",
   "execution_count": null,
   "id": "c0fef322-8094-4123-9bea-ec4eecc1271d",
   "metadata": {},
   "outputs": [],
   "source": [
    "Splitting: The algorithm separates data into smaller groups based on features that reduce uncertainty about\n",
    "the outcome.\n",
    "\n",
    "Choosing Features: It selects features that best split the data into groups with similar outcomes.\n",
    "\n",
    "Building the Tree: Continues splitting until it creates a tree structure that predicts outcomes for new\n",
    "data.\n",
    "\n",
    "Predicting Classes: For new data, it follows the tree path based on features to predict the outcome.\n",
    "\n",
    "Handling Different Types of Features: It treats categorical and numerical features differently, creating\n",
    "branches for categories and choosing thresholds for numerical features.\n",
    "\n",
    "Pruning: To avoid overfitting, it simplifies the tree by removing less useful parts."
   ]
  },
  {
   "cell_type": "code",
   "execution_count": null,
   "id": "d6b685d4-91d8-4e76-abbb-1a2abc936bbf",
   "metadata": {},
   "outputs": [],
   "source": [
    "Building the Tree: The decision tree algorithm recursively splits the dataset into subsets based on \n",
    "features. It selects the feature and threshold that best separate the data into two groups, each more \n",
    "homogeneous in terms of the class labels.\n",
    "\n",
    "Splitting Criteria: At each node, the algorithm chooses the feature and threshold that minimize a measure\n",
    "of impurity (e.g., Gini impurity, entropy) in the child nodes. This process continues until a stopping\n",
    "criterion is met (e.g., maximum tree depth, minimum number of data points in a node).\n",
    "\n",
    "Predicting Classes: To predict the class for a new data point, the algorithm starts at the root node of\n",
    "the tree and follows the decision path based on the feature values of the data point. It eventually reaches\n",
    "a leaf node, where the majority class is assigned as the predicted class for the data point."
   ]
  },
  {
   "cell_type": "code",
   "execution_count": null,
   "id": "9ed5879f-2825-47e5-9990-0909cda27d8f",
   "metadata": {},
   "outputs": [],
   "source": [
    "Feature Space Partitioning: Imagine the feature space as a multi-dimensional space where each data point\n",
    "is a vector with coordinates corresponding to its features. The decision tree algorithm recursively splits\n",
    "this space into smaller regions.\n",
    "\n",
    "Decision Boundaries: At each node of the tree, a decision boundary is created based on a feature and \n",
    "threshold value. This boundary divides the feature space into two parts, assigning one class to points\n",
    "on one side and the other class to points on the other side.\n",
    "\n",
    "Tree Structure: The decision boundaries form a tree-like structure, where each internal node represents \n",
    "a decision based on a feature, and each leaf node represents a class label.\n",
    "\n",
    "Making Predictions: To classify a new data point, you start at the root of the tree and move down the tree\n",
    "based on the feature values of the data point. At each node, you follow the decision path until you reach \n",
    "a leaf node. The class label associated with that leaf node is then assigned as the predicted class for \n",
    "the data point.\n",
    "\n",
    "Interpretability: One of the key advantages of decision tree classification is its interpretability. \n",
    "The decision boundaries can be easily visualized, allowing users to understand how the algorithm makes \n",
    "decisions."
   ]
  },
  {
   "cell_type": "code",
   "execution_count": null,
   "id": "f00bc5fd-e0bd-4942-bc5c-e49d5f65fc1e",
   "metadata": {},
   "outputs": [],
   "source": [
    "Accuracy: The proportion of correct predictions.\n",
    "Precision: The proportion of actual positives among the predicted positives.\n",
    "Recall (Sensitivity): The proportion of actual positives that were predicted correctly.\n",
    "Specificity: The proportion of actual negatives that were predicted correctly.\n",
    "F1 Score: The balance between precision and recall.\n",
    "False Positive Rate (FPR): The proportion of actual negatives that were predicted as positives."
   ]
  },
  {
   "cell_type": "code",
   "execution_count": null,
   "id": "67282a0b-74ef-4f6f-8399-c402407112a8",
   "metadata": {},
   "outputs": [],
   "source": [
    "        Actual\n",
    "          1    0\n",
    "Pred 1   20   10\n",
    "     0    5   65\n",
    "Precision: Out of all emails predicted as spam, 67% were actually spam (20 out of 30).\n",
    "Recall: Out of all actual spam emails, 80% were correctly predicted as spam (20 out of 25).\n",
    "F1 Score: A balanced measure that considers both precision and recall, which in this case is 0.73."
   ]
  },
  {
   "cell_type": "code",
   "execution_count": null,
   "id": "33e33bbb-29da-40a2-8f2d-5220005d924a",
   "metadata": {},
   "outputs": [],
   "source": [
    "Choosing an appropriate evaluation metric for a classification problem is crucial because it determines\n",
    "how you assess the performance of your model and whether it meets the specific goals of your application.\n",
    "Different metrics focus on different aspects of the model performance, so selecting the right one ensures\n",
    "that you're measuring what matters most to your problem.\n",
    "Choose Metrics: Based on your goals, select metrics like accuracy, precision, recall, or F1 score that best \n",
    "reflect what you want to achieve.\n",
    "\n",
    "Experiment and Improve: Try different metrics and see which ones give you the best insights. You may need\n",
    "to combine metrics or create custom ones to fully understand your model's performance."
   ]
  },
  {
   "cell_type": "code",
   "execution_count": null,
   "id": "e429003e-a4f2-45de-b4e1-b49b049123f8",
   "metadata": {},
   "outputs": [],
   "source": [
    "Consider a medical diagnostic tool that predicts whether a patient has a rare but highly contagious disease.\n",
    "In this scenario, precision would be the most important metric.\n",
    "\n",
    "Explanation:\n",
    "\n",
    "Precision: Precision measures the proportion of correctly predicted positive instances (true positives)\n",
    "among all instances predicted as positive (true positives + false positives). In this case, precision is\n",
    "crucial because falsely diagnosing a healthy person as having the disease (false positive) could lead to\n",
    "unnecessary treatments and isolation, causing distress to the patient and potential harm."
   ]
  },
  {
   "cell_type": "code",
   "execution_count": null,
   "id": "f33bbe92-2590-4c10-b1a1-54f381a86e42",
   "metadata": {},
   "outputs": [],
   "source": [
    "Consider a fraud detection system for online transactions. In this scenario, recall would be the most \n",
    "important metric.\n",
    "\n",
    "Explanation:\n",
    "\n",
    "Recall: Recall measures the proportion of correctly predicted positive instances (true positives) among \n",
    "all actual positive instances (true positives + false negatives). In fraud detection, recall is crucial \n",
    "because missing a fraudulent transaction (false negative) is more costly than flagging a legitimate \n",
    "transaction as fraudulent (false positive)."
   ]
  },
  {
   "cell_type": "code",
   "execution_count": null,
   "id": "a787f48a-a698-4987-ae4b-3af5db24654c",
   "metadata": {},
   "outputs": [],
   "source": []
  }
 ],
 "metadata": {
  "kernelspec": {
   "display_name": "Python 3 (ipykernel)",
   "language": "python",
   "name": "python3"
  },
  "language_info": {
   "codemirror_mode": {
    "name": "ipython",
    "version": 3
   },
   "file_extension": ".py",
   "mimetype": "text/x-python",
   "name": "python",
   "nbconvert_exporter": "python",
   "pygments_lexer": "ipython3",
   "version": "3.10.8"
  }
 },
 "nbformat": 4,
 "nbformat_minor": 5
}
