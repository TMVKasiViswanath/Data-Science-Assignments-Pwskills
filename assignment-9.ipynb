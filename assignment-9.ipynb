{
 "cells": [
  {
   "cell_type": "code",
   "execution_count": 1,
   "id": "e4e0b209-6a9b-4a86-b9e7-1b2670fe6c9f",
   "metadata": {},
   "outputs": [
    {
     "name": "stdout",
     "output_type": "stream",
     "text": [
      "Car\n",
      "200\n",
      "50\n"
     ]
    }
   ],
   "source": [
    "class Vehicle:\n",
    "    def __init__(self, name_of_vehicle, max_speed, average_of_vehicle):\n",
    "        self.name_of_vehicle = name_of_vehicle\n",
    "        self.max_speed = max_speed\n",
    "        self.average_of_vehicle = average_of_vehicle\n",
    "\n",
    "\n",
    "vehicle1 = Vehicle(\"Car\", 200, 50)\n",
    "print(vehicle1.name_of_vehicle)  \n",
    "print(vehicle1.max_speed)     \n",
    "print(vehicle1.average_of_vehicle)  \n"
   ]
  },
  {
   "cell_type": "code",
   "execution_count": 2,
   "id": "ffdefaa7-ead7-480a-98e6-e47c93a55804",
   "metadata": {},
   "outputs": [
    {
     "name": "stdout",
     "output_type": "stream",
     "text": [
      "The SUV has a seating capacity of 5.\n"
     ]
    }
   ],
   "source": [
    "class Car(Vehicle):\n",
    "    def __init__(self, name_of_vehicle, max_speed, average_of_vehicle):\n",
    "        super().__init__(name_of_vehicle, max_speed, average_of_vehicle)\n",
    "\n",
    "    def seating_capacity(self, capacity):\n",
    "        return f\"The {self.name_of_vehicle} has a seating capacity of {capacity}.\"\n",
    "\n",
    "\n",
    "car1 = Car(\"SUV\", 180, 25)\n",
    "print(car1.seating_capacity(5))  \n"
   ]
  },
  {
   "cell_type": "code",
   "execution_count": null,
   "id": "229bc847-b8c8-4a58-90f1-73e3a19968b7",
   "metadata": {},
   "outputs": [],
   "source": [
    "\"\"\"\n",
    "#Multiple inheritance is a feature of object-oriented programming where a class can inherit \n",
    "#attributes and methods from more than one parent class.\n",
    "#This allows for the creation of a subclass that combines the features of multiple parent classes.\n",
    "\"\"\""
   ]
  },
  {
   "cell_type": "code",
   "execution_count": 3,
   "id": "d8a9899a-1458-4816-9503-1705b3c6fe43",
   "metadata": {},
   "outputs": [
    {
     "name": "stdout",
     "output_type": "stream",
     "text": [
      "Tom says Woof!\n"
     ]
    }
   ],
   "source": [
    "class Animal:\n",
    "    def __init__(self, name):\n",
    "        self.name = name\n",
    "\n",
    "    def speak(self):\n",
    "        pass\n",
    "\n",
    "class Dog(Animal):\n",
    "    def speak(self):\n",
    "        return f\"{self.name} says Woof!\"\n",
    "\n",
    "class Cat(Animal):\n",
    "    def speak(self):\n",
    "        return f\"{self.name} says Meow!\"\n",
    "\n",
    "class DogCat(Dog, Cat):\n",
    "    def __init__(self, name):\n",
    "        super().__init__(name)\n",
    "\n",
    "\n",
    "my_pet = DogCat(\"Tom\")\n",
    "print(my_pet.speak())  \n"
   ]
  },
  {
   "cell_type": "code",
   "execution_count": null,
   "id": "7942a3dc-d320-476e-bffa-c956fddf2128",
   "metadata": {},
   "outputs": [],
   "source": [
    "\n",
    "\"\"\"\n",
    "\n",
    "In Python, getters and setters are methods used to get and set the values of attributes of a class, \n",
    "respectively. They are used to encapsulate the attributes of a class, providing controlled access to them. \n",
    "This helps in ensuring data integrity and making the class more maintainable.\n",
    "\"\"\""
   ]
  },
  {
   "cell_type": "code",
   "execution_count": 4,
   "id": "275e2437-3b9c-45ae-8f11-405550b0b36b",
   "metadata": {},
   "outputs": [
    {
     "name": "stdout",
     "output_type": "stream",
     "text": [
      "Alice\n",
      "Bob\n",
      "30\n",
      "25\n",
      "Age cannot be negative.\n",
      "25\n"
     ]
    }
   ],
   "source": [
    "class Person:\n",
    "    def __init__(self, name, age):\n",
    "        self._name = name\n",
    "        self._age = age\n",
    "\n",
    "    def get_name(self):\n",
    "        return self._name\n",
    "\n",
    "    def set_name(self, name):\n",
    "        self._name = name\n",
    "\n",
    "    def get_age(self):\n",
    "        return self._age\n",
    "\n",
    "    def set_age(self, age):\n",
    "        if age >= 0:\n",
    "            self._age = age\n",
    "        else:\n",
    "            print(\"Age cannot be negative.\")\n",
    "\n",
    "\n",
    "person1 = Person(\"Alice\", 30)\n",
    "print(person1.get_name())  \n",
    "person1.set_name(\"Bob\")\n",
    "print(person1.get_name())  \n",
    "\n",
    "print(person1.get_age()) \n",
    "person1.set_age(25)\n",
    "print(person1.get_age())  \n",
    "\n",
    "person1.set_age(-5)       \n",
    "print(person1.get_age())   \n"
   ]
  },
  {
   "cell_type": "code",
   "execution_count": null,
   "id": "04860531-4ae5-4744-b4d5-fb89be40e856",
   "metadata": {},
   "outputs": [],
   "source": []
  }
 ],
 "metadata": {
  "kernelspec": {
   "display_name": "Python 3 (ipykernel)",
   "language": "python",
   "name": "python3"
  },
  "language_info": {
   "codemirror_mode": {
    "name": "ipython",
    "version": 3
   },
   "file_extension": ".py",
   "mimetype": "text/x-python",
   "name": "python",
   "nbconvert_exporter": "python",
   "pygments_lexer": "ipython3",
   "version": "3.10.8"
  }
 },
 "nbformat": 4,
 "nbformat_minor": 5
}
