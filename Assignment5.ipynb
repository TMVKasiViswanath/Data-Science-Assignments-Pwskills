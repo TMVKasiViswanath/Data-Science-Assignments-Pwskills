{
 "cells": [
  {
   "cell_type": "code",
   "execution_count": 18,
   "id": "ca707978-57f1-4173-8a22-de75e65bcc4a",
   "metadata": {},
   "outputs": [
    {
     "name": "stdout",
     "output_type": "stream",
     "text": [
      "Data Science is one of the fast growing streams in the present generation\n"
     ]
    }
   ],
   "source": [
    "\"\"\"\n",
    "Q1.\n",
    "open() method is used to open the file from a particular director\n",
    "the  modes are read,write,append,binary mode,text mode.\n",
    "\"\"\"\n",
    "with open(\"text.txt\", \"w\") as f:\n",
    "    f.write(\"Data Science is one of the fast growing streams in the present generation\")\n",
    "    \n",
    "with open(\"text.txt\", \"r\") as f:\n",
    "    print(f.read())\n",
    "    \n",
    "with open(\"text.txt\", \"a\") as f:\n",
    "    f.write(\"  Not only the data science but also the data analytics is also a fast growing streams \")\n",
    "    \n",
    "\n"
   ]
  },
  {
   "cell_type": "code",
   "execution_count": 10,
   "id": "f67ffc59-4439-473e-bd89-5fddbb337fa2",
   "metadata": {},
   "outputs": [],
   "source": [
    "import json\n",
    "import csv\n",
    "data={\n",
    "    \"name\":\"viswnath\",\n",
    "    \"age\":21,\n",
    "    \"gmail\":\"kasiviswanath@gamil.com\"\n",
    "}\n",
    "data1=[[\"name\" , \"age\" , \"gender\"],\n",
    "       [\"viswanath\" , 21 , \"male\"],\n",
    "       [\"anu\" , 21 ,\"female\"]\n",
    "      ]"
   ]
  },
  {
   "cell_type": "code",
   "execution_count": 11,
   "id": "e2d5f650-4b63-44ca-bad5-647162f6d92f",
   "metadata": {},
   "outputs": [],
   "source": [
    "with open(\"test.json\",\"w\") as f:\n",
    "    json.dump(data,f)\n",
    "    \n",
    "with open(\"test1.csv\", \"w\") as f:\n",
    "    write=csv.writer(f)\n",
    "    for i in data1:\n",
    "        write.writerow(i)"
   ]
  },
  {
   "cell_type": "code",
   "execution_count": null,
   "id": "675642f3-44cf-4fd0-8aa5-d176654d3ca9",
   "metadata": {},
   "outputs": [],
   "source": [
    "\"\"\"\n",
    "Q2.\n",
    "   It is very important to close a file after using it.because if you dont close the file after \n",
    "   the usage then there will be problwm in resource managemnt for the operating system because \n",
    "   some of the resources are given to the this file and some of the connections are also given \n",
    "   in between programme and files.\n",
    "   If we dont close the files then information might be corrupted.\n",
    "   The operating system stops other functions to process this, if we dont close it properly then\n",
    "   the files will be in closed situation.\n",
    "\"\"\""
   ]
  },
  {
   "cell_type": "code",
   "execution_count": 14,
   "id": "b9eaee03-3e59-454c-a72e-1d4dac5ddcaa",
   "metadata": {},
   "outputs": [
    {
     "name": "stdout",
     "output_type": "stream",
     "text": [
      "I want to become the data scientist\n"
     ]
    }
   ],
   "source": [
    "#Q3.\n",
    "with open(\"text1.txt\",\"w\") as f:\n",
    "    f.write(\"I want to become the data scientist\")\n",
    "f.close()\n",
    "\n",
    "with open(\"text1.txt\") as f:\n",
    "    print(f.read())\n"
   ]
  },
  {
   "cell_type": "code",
   "execution_count": 29,
   "id": "9f7d77b4-0e56-4331-b50b-1c9fd520b1f6",
   "metadata": {},
   "outputs": [
    {
     "name": "stdout",
     "output_type": "stream",
     "text": [
      "Data Science is one of the fast growing streams in the present generation  Not only the data science but also the data analytics is also a fast growing streams \n"
     ]
    }
   ],
   "source": [
    "#Q4\n",
    "\"\"\"read() method reads all the information that is present inside the file\"\"\"\n",
    "with open(\"text.txt\", \"r\") as f:\n",
    "    print(f.read())\n",
    "    \n",
    "\"\"\"readline() method is used to read a single line from the file\"\"\"    \n",
    "with open(\"text.txt\",\"r\") as f:\n",
    "    read1=f.readline()\n",
    "    \n",
    "\"\"\"readlines() method is used to read multiple lines from the file by using the for loop\"\"\"   \n",
    "with open(\"text.txt\", \"r\") as f:\n",
    "    read2=f.readlines()\n",
    "    \n",
    "    "
   ]
  },
  {
   "cell_type": "code",
   "execution_count": 26,
   "id": "6c6dd695-53a0-4763-a8ff-8d3a979c017f",
   "metadata": {},
   "outputs": [
    {
     "name": "stdout",
     "output_type": "stream",
     "text": [
      "Data Science is one of the fast growing streams in the present generation  Not only the data science but also the data analytics is also a fast growing streams \n",
      "Data Science is one of the fast growing streams in the present generation  Not only the data science but also the data analytics is also a fast growing streams \n"
     ]
    }
   ],
   "source": [
    "print(read1)\n",
    "for i in read2:\n",
    "        print(i)"
   ]
  },
  {
   "cell_type": "code",
   "execution_count": null,
   "id": "92d75436-85f4-4987-9e53-c45c31cda310",
   "metadata": {},
   "outputs": [],
   "source": [
    "\"\"\"Q5.\n",
    "      with is used along the open in the file management. It is safe to use (with) to open the files\n",
    "      because it automatically manage the resources of the operating system.It automatically closes the file.\n",
    "      That means no need of using the close() function to close the file after the usage.\n",
    "      \n",
    "\"\"\""
   ]
  },
  {
   "cell_type": "code",
   "execution_count": 30,
   "id": "2bb8e5d1-de4c-4dcf-a5aa-eb048d349f19",
   "metadata": {},
   "outputs": [],
   "source": [
    "\"\"\"\n",
    "Q6. \n",
    "\"\"\"\n",
    "with open(\"text.txt\" , \"w\") as f:\n",
    "    f.write(\"Data Science is one of the fast growing streams in the present generation\")"
   ]
  },
  {
   "cell_type": "code",
   "execution_count": null,
   "id": "4f67b1c9-16a6-4056-aeda-b7cb6fb1662e",
   "metadata": {},
   "outputs": [],
   "source": [
    "lis=[\"first line\\n\", \"second line\\n\"]"
   ]
  },
  {
   "cell_type": "code",
   "execution_count": null,
   "id": "f25af685-952c-49e9-8a4f-df9e02e9112e",
   "metadata": {},
   "outputs": [],
   "source": []
  },
  {
   "cell_type": "code",
   "execution_count": null,
   "id": "9cde8c4a-e2b6-4728-abe7-b142a3f541c2",
   "metadata": {},
   "outputs": [],
   "source": []
  },
  {
   "cell_type": "code",
   "execution_count": null,
   "id": "ddf9e6f7-faff-493f-97d9-cc3ab1b65cc8",
   "metadata": {},
   "outputs": [],
   "source": []
  }
 ],
 "metadata": {
  "kernelspec": {
   "display_name": "Python 3 (ipykernel)",
   "language": "python",
   "name": "python3"
  },
  "language_info": {
   "codemirror_mode": {
    "name": "ipython",
    "version": 3
   },
   "file_extension": ".py",
   "mimetype": "text/x-python",
   "name": "python",
   "nbconvert_exporter": "python",
   "pygments_lexer": "ipython3",
   "version": "3.10.8"
  }
 },
 "nbformat": 4,
 "nbformat_minor": 5
}
