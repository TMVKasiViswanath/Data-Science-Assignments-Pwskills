{
 "cells": [
  {
   "cell_type": "code",
   "execution_count": null,
   "id": "28c11a14-9d48-4f27-b0e3-1b8d2290a2fe",
   "metadata": {},
   "outputs": [],
   "source": [
    "\"\"\"\n",
    "\n",
    "Multiprocessing in Python refers to the ability to run multiple processes concurrently, allowing for \n",
    "parallel execution of tasks. Unlike multithreading, which is limited by the Global Interpreter Lock \n",
    "(GIL) and is suitable for I/O-bound tasks, multiprocessing is suitable for CPU-bound tasks as it can \n",
    "take advantage of multiple CPU cores.\n",
    "\n",
    "Multiprocessing is useful for several reasons:\n",
    "\n",
    "Improved Performance: Multiprocessing allows you to take advantage of multiple CPU cores, leading to \n",
    "improved performance for CPU-bound tasks.\n",
    "\n",
    "Better Resource Utilization: By running multiple processes concurrently, multiprocessing allows for \n",
    "better utilization of available system resources.\n",
    "\n",
    "Enhanced Parallelism: Multiprocessing enables you to execute multiple tasks simultaneously, achieving\n",
    "a higher level of parallelism in your programs.\n",
    "\n",
    "Avoidance of GIL Limitations: Since each process has its own Python interpreter and memory space,\n",
    "multiprocessing can bypass the limitations imposed by the Global Interpreter Lock (GIL) in Python, \n",
    "allowing for true parallel execution of tasks.\n",
    "\n",
    "Fault Isolation: Multiprocessing provides a level of fault isolation between processes, as a crash\n",
    "in one process does not affect other processes.\n",
    "\"\"\""
   ]
  },
  {
   "cell_type": "code",
   "execution_count": null,
   "id": "d6c5ec23-0fca-46c3-8c11-63e5d5a26460",
   "metadata": {},
   "outputs": [],
   "source": [
    "\"\"\"\n",
    "Parallelism vs. Concurrency:\n",
    "\n",
    "Multiprocessing achieves true parallelism by running multiple processes simultaneously, each with its \n",
    "own memory space and Python interpreter.\n",
    "Multithreading achieves concurrency by running multiple threads within a single process, sharing the\n",
    "same memory space and Python interpreter. However, due to the Global Interpreter Lock (GIL), only one\n",
    "thread can execute Python bytecode at a time, limiting true parallelism.\n",
    "\n",
    "Resource Usage:\n",
    "Multiprocessing creates separate memory spaces for each process, leading to higher memory usage compared \n",
    "to multithreading, which shares memory between threads.\n",
    "Multiprocessing requires more resources (memory, CPU) compared to multithreading, which can be more \n",
    "lightweight.\n",
    "\n",
    "Communication and Synchronization:\n",
    "Inter-process communication (IPC) is used in multiprocessing to allow processes to communicate and share\n",
    "data. This can be achieved using mechanisms like pipes, queues, and shared memory.\n",
    "In multithreading, communication between threads is simpler as they share the same memory space. \n",
    "However, proper synchronization mechanisms like locks, semaphores, and condition variables are required \n",
    "to avoid race conditions and ensure thread safety.\n",
    "\"\"\""
   ]
  },
  {
   "cell_type": "code",
   "execution_count": 1,
   "id": "68f278db-288b-442d-9d06-5ea0f7e2cfbe",
   "metadata": {},
   "outputs": [
    {
     "name": "stdout",
     "output_type": "stream",
     "text": [
      "Worker process id: 2309\n",
      "Main process id: 2125\n"
     ]
    }
   ],
   "source": [
    "import multiprocessing\n",
    "import os\n",
    "\n",
    "def worker():\n",
    "    \"\"\"Function to be executed by the process.\"\"\"\n",
    "    print(f\"Worker process id: {os.getpid()}\")\n",
    "\n",
    "if __name__ == \"__main__\":\n",
    "    \n",
    "    process = multiprocessing.Process(target=worker)\n",
    "    \n",
    "    \n",
    "    process.start()\n",
    "\n",
    "   \n",
    "    process.join()\n",
    "\n",
    "    print(\"Main process id:\", os.getpid())\n"
   ]
  },
  {
   "cell_type": "code",
   "execution_count": null,
   "id": "7136b342-9e76-4568-8cab-de99c053468d",
   "metadata": {},
   "outputs": [],
   "source": [
    "\"\"\"\n",
    " is a way to create a pool of worker processes that can execute tasks in parallel. It is provided by the\n",
    " multiprocessing module and is used to distribute work across multiple processes, making it useful for \n",
    " parallelizing CPU-bound tasks.\n",
    "\n",
    "The multiprocessing pool is particularly useful when you have a large number of tasks that can be executed \n",
    "independently and you want to take advantage of multiple CPU cores to speed up the execution. It abstracts\n",
    "away the details of managing the worker processes and provides a simple interface for submitting tasks and \n",
    "retrieving results.\n",
    "\n",
    "By using a multiprocessing pool, you can significantly reduce the time taken to execute a large number of \n",
    "tasks, as the tasks can be executed in parallel across multiple processes, rather than sequentially in a \n",
    "single process.\n",
    "\"\"\""
   ]
  },
  {
   "cell_type": "code",
   "execution_count": null,
   "id": "4c3d5527-fd1e-478c-af81-cdd04aefcea3",
   "metadata": {},
   "outputs": [],
   "source": []
  }
 ],
 "metadata": {
  "kernelspec": {
   "display_name": "Python 3 (ipykernel)",
   "language": "python",
   "name": "python3"
  },
  "language_info": {
   "codemirror_mode": {
    "name": "ipython",
    "version": 3
   },
   "file_extension": ".py",
   "mimetype": "text/x-python",
   "name": "python",
   "nbconvert_exporter": "python",
   "pygments_lexer": "ipython3",
   "version": "3.10.8"
  }
 },
 "nbformat": 4,
 "nbformat_minor": 5
}
