{
 "cells": [
  {
   "cell_type": "code",
   "execution_count": null,
   "id": "7a0ab306-7437-4672-b164-7c758953059a",
   "metadata": {},
   "outputs": [],
   "source": [
    "Missing values in a dataset are instances where no data is present for a particular\n",
    "variable in a specific observation. These missing values can occur due to various reasons such as data \n",
    "entry errors, equipment malfunction, or simply because the information was not collected.\n",
    "\n",
    "Handling missing values is crucial because they can lead to biased analyses and inaccurate conclusions.\n",
    "For example, if a significant portion of data is missing for a particular variable, any analysis involving\n",
    "that variable may be skewed. Additionally, many machine learning algorithms cannot handle missing values \n",
    "and may either produce errors or provide inaccurate results if missing values are present in the dataset.\n",
    "\n",
    "Some algorithms that are not affected by missing values include tree-based algorithms like Decision Trees,\n",
    "Random Forests, and Gradient Boosting Machines. These algorithms can inherently handle missing values by \n",
    "making decisions based on available data in the dataset. Similarly, algorithms that use distance metrics \n",
    "like K-Nearest Neighbors (KNN) can also handle missing values, as they calculate distances based on \n",
    "available data points without requiring imputation of missing values."
   ]
  },
  {
   "cell_type": "code",
   "execution_count": 1,
   "id": "85efc37b-8f35-4ea5-a8e3-25de018b655e",
   "metadata": {},
   "outputs": [
    {
     "name": "stdout",
     "output_type": "stream",
     "text": [
      "     A    B\n",
      "0  1.0  5.0\n",
      "3  4.0  8.0\n"
     ]
    }
   ],
   "source": [
    "import pandas as pd\n",
    "\n",
    "df = pd.DataFrame({'A': [1, 2, None, 4],\n",
    "                   'B': [5, None, 7, 8]})\n",
    "\n",
    "\n",
    "df_cleaned = df.dropna()\n",
    "print(df_cleaned)\n"
   ]
  },
  {
   "cell_type": "code",
   "execution_count": 2,
   "id": "03f3d585-c09f-47db-b92a-2ba43328ed8c",
   "metadata": {},
   "outputs": [
    {
     "name": "stdout",
     "output_type": "stream",
     "text": [
      "     A    B\n",
      "0  1.0  5.0\n",
      "1  2.0 -1.0\n",
      "2 -1.0  7.0\n",
      "3  4.0  8.0\n"
     ]
    }
   ],
   "source": [
    "\n",
    "df = pd.DataFrame({'A': [1, 2, None, 4],\n",
    "                   'B': [5, None, 7, 8]})\n",
    "\n",
    "df_filled = df.fillna(-1)\n",
    "print(df_filled)\n"
   ]
  },
  {
   "cell_type": "code",
   "execution_count": 3,
   "id": "ab4b059b-d969-4d46-b71e-2c205e42f37b",
   "metadata": {},
   "outputs": [
    {
     "name": "stdout",
     "output_type": "stream",
     "text": [
      "          A         B\n",
      "0  1.000000  5.000000\n",
      "1  2.000000  6.666667\n",
      "2  2.333333  7.000000\n",
      "3  4.000000  8.000000\n"
     ]
    }
   ],
   "source": [
    "\n",
    "df = pd.DataFrame({'A': [1, 2, None, 4],\n",
    "                   'B': [5, None, 7, 8]})\n",
    "\n",
    "\n",
    "df_filled = df.fillna(df.mean())\n",
    "print(df_filled)\n"
   ]
  },
  {
   "cell_type": "code",
   "execution_count": null,
   "id": "add07345-4247-4048-b774-0546bc258907",
   "metadata": {},
   "outputs": [],
   "source": [
    "Imbalanced data refers to a situation in a dataset where the number of observations in one class \n",
    "(the minority class) is significantly lower than the number of observations in the other class(es)\n",
    "(the majority class(es)).\n",
    "\n",
    "If imbalanced data is not handled, it can lead to several issues:\n",
    "\n",
    "Biased Models: Machine learning models trained on imbalanced data tend to be biased towards the majority\n",
    "class, as they focus more on correctly classifying the majority class while ignoring the minority class.\n",
    "\n",
    "Poor Generalization: Models trained on imbalanced data may not generalize well to unseen data, especially\n",
    "for the minority class, leading to lower overall performance.\n",
    "\n",
    "Misclassification of Minority Class: In scenarios where the minority class is of interest\n",
    "(e.g., fraud detection, rare disease diagnosis), imbalanced data can result in the minority class\n",
    "being misclassified more often, leading to higher false negative rates.\n",
    "\n",
    "Model Evaluation Issues: Traditional evaluation metrics like accuracy can be misleading in the presence \n",
    "of imbalanced data, as a model that predicts the majority class all the time can still achieve high \n",
    "accuracy."
   ]
  },
  {
   "cell_type": "code",
   "execution_count": null,
   "id": "7ccf7d90-e70b-4a33-9d55-cf78536ef986",
   "metadata": {},
   "outputs": [],
   "source": [
    "\n",
    "from sklearn.utils import resample\n",
    "\n",
    "majority_class = df[df['target'] == 0]\n",
    "minority_class = df[df['target'] == 1]\n",
    "\n",
    "minority_upsampled = resample(minority_class, replace=True, n_samples=len(majority_class), random_state=42)\n",
    "\n",
    "upsampled_df = pd.concat([majority_class, minority_upsampled])\n"
   ]
  },
  {
   "cell_type": "code",
   "execution_count": null,
   "id": "81c725eb-e8c0-431f-8d16-db9b8f122e27",
   "metadata": {},
   "outputs": [],
   "source": [
    "# Example of down-sampling\n",
    "from sklearn.utils import resample\n",
    "\n",
    "majority_class = df[df['target'] == 0]\n",
    "minority_class = df[df['target'] == 1]\n",
    "\n",
    "majority_downsampled = resample(majority_class, replace=False, n_samples=len(minority_class), random_state=42)\n",
    "\n",
    "downsampled_df = pd.concat([majority_downsampled, minority_class])\n"
   ]
  },
  {
   "cell_type": "code",
   "execution_count": null,
   "id": "892c8943-c25a-42b6-b064-6ee0bdf00d86",
   "metadata": {},
   "outputs": [],
   "source": [
    "Data augmentation is a technique used to artificially expand the size of a dataset\n",
    "by creating modified versions of images, text, or other data points in the dataset. This technique is\n",
    "commonly used in machine learning and deep learning to improve model performance, especially when the\n",
    "original dataset is limited in size.\n",
    "\n",
    "SMOTE (Synthetic Minority Over-sampling Technique) is a specific data augmentation technique used to \n",
    "address the class imbalance problem in classification tasks. It works by generating synthetic examples\n",
    "from the minority class rather than simply duplicating them. SMOTE selects two or more similar instances\n",
    "(nearest neighbors) from the minority class, computes the difference between them, and then creates new \n",
    "instances along the line segments joining these points in the feature space."
   ]
  },
  {
   "cell_type": "code",
   "execution_count": null,
   "id": "524d176c-5185-450b-b98e-4ef34b8df82a",
   "metadata": {},
   "outputs": [],
   "source": [
    "Outliers are data points that significantly differ from other observations in a dataset. \n",
    "They can occur due to various reasons such as measurement errors, experimental errors, or natural\n",
    "variation in the data. Outliers can distort statistical analyses and machine learning models, leading\n",
    "to incorrect conclusions and predictions.\n",
    "\n",
    "It is essential to handle outliers for several reasons:\n",
    "\n",
    "Impact on Descriptive Statistics: Outliers can skew descriptive statistics such as the mean and standard\n",
    "deviation, making them less representative of the central tendency and variability of the data.\n",
    "\n",
    "Impact on Inferential Statistics: Outliers can lead to incorrect conclusions in hypothesis testing and \n",
    "estimation, as they can influence the results of statistical tests and confidence intervals.\n",
    "\n",
    "Impact on Machine Learning Models: Outliers can negatively impact the performance of machine learning \n",
    "models, as they can introduce bias and reduce the accuracy of predictions.\n",
    "\n",
    "Data Quality: Outliers may indicate data quality issues or measurement errors, which need to be addressed \n",
    "to ensure the integrity of the dataset."
   ]
  },
  {
   "cell_type": "code",
   "execution_count": null,
   "id": "3cd7b048-3ea9-4737-a304-faad6c0c63fa",
   "metadata": {},
   "outputs": [],
   "source": [
    "Removing Rows with Missing Data: If the amount of missing data is small and \n",
    "randomly distributed, you can simply remove rows with missing values.\n",
    "\n",
    "Replacing with a Constant Value: You can fill missing values with a constant value (e.g., 0) if\n",
    "the missingness is meaningful or if it makes sense for your analysis.\n",
    "\n",
    "Mean/Median/Mode Imputation: Replace missing values with the mean, median, or mode of the column.\n",
    "This is useful when the missing values are missing at random and the distribution of the data is not\n",
    "significantly affected by the missing values.\n",
    "\n",
    "Forward Fill (or Backward Fill): Use the last known value to fill missing values (forward fill) or the \n",
    "next known value (backward fill). This is useful for time series data where values are likely to be \n",
    "correlated over time."
   ]
  },
  {
   "cell_type": "code",
   "execution_count": null,
   "id": "c7a74745-fa86-4fa9-a02e-c55e6eebd3c0",
   "metadata": {},
   "outputs": [],
   "source": [
    "Visualize Missing Data: Use heatmaps or bar plots to see if missing values occur more frequently in \n",
    "certain variables or patterns.\n",
    "\n",
    "Statistical Tests: Perform tests like Little MCAR test to check if missingness is completely at random.\n",
    "\n",
    "Analyze Missing Data Patterns: Look for consistent patterns in missing values across variables.\n",
    "\n",
    "Compare Across Groups: Compare missing data patterns between different groups to identify differences.\n",
    "\n",
    "Use Domain Knowledge: Consider if there are logical reasons for missing data based on your understanding \n",
    "of the dataset."
   ]
  },
  {
   "cell_type": "code",
   "execution_count": null,
   "id": "09128ded-d994-43b1-9e20-5145850215ac",
   "metadata": {},
   "outputs": [],
   "source": [
    "Use of Evaluation Metrics: Instead of accuracy, which can be misleading in imbalanced datasets, use \n",
    "evaluation metrics like precision, recall, F1-score, and area under the ROC curve (AUC-ROC) to assess the\n",
    "performance of your model. These metrics provide a more comprehensive view of the model performance, \n",
    "especially in imbalanced datasets.\n",
    "\n",
    "Resampling Techniques: Use resampling techniques such as oversampling the minority class \n",
    "(e.g., Synthetic Minority Over-sampling Technique - SMOTE) or undersampling the majority class to balance\n",
    "the dataset before training the model. This can help improve the model performance on the minority class."
   ]
  },
  {
   "cell_type": "code",
   "execution_count": null,
   "id": "ab5753f2-22dd-4ca7-bdd4-3561d07de3e0",
   "metadata": {},
   "outputs": [],
   "source": [
    "When dealing with an unbalanced dataset, where the majority of customers report being satisfied,\n",
    "you can employ severalmethods to balance the dataset and down-sample the majority class. One common \n",
    "approach is to use random undersampling, where you randomly select a subset of the majority class to \n",
    "match the size of the minority class. "
   ]
  },
  {
   "cell_type": "code",
   "execution_count": null,
   "id": "8c0d2610-e16c-47e4-ae49-d1c83f9d493b",
   "metadata": {},
   "outputs": [],
   "source": [
    "When dealing with a dataset that is unbalanced, with a low percentage of occurrences of a rare event \n",
    "(the minority class), you can employ various methods to balance the dataset and up-sample the minority \n",
    "class. One common approach is to use synthetic oversampling techniques like Synthetic Minority Over-\n",
    "sampling Technique (SMOTE). "
   ]
  }
 ],
 "metadata": {
  "kernelspec": {
   "display_name": "Python 3 (ipykernel)",
   "language": "python",
   "name": "python3"
  },
  "language_info": {
   "codemirror_mode": {
    "name": "ipython",
    "version": 3
   },
   "file_extension": ".py",
   "mimetype": "text/x-python",
   "name": "python",
   "nbconvert_exporter": "python",
   "pygments_lexer": "ipython3",
   "version": "3.10.8"
  }
 },
 "nbformat": 4,
 "nbformat_minor": 5
}
