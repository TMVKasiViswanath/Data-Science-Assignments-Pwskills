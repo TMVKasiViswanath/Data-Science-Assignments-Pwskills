{
 "cells": [
  {
   "cell_type": "code",
   "execution_count": 1,
   "id": "a00659a8-01e9-4a4a-beb4-8053ccf43aaf",
   "metadata": {},
   "outputs": [
    {
     "name": "stdout",
     "output_type": "stream",
     "text": [
      "0\n"
     ]
    }
   ],
   "source": [
    "def flatten_list(lst):\n",
    "    flat_list = []\n",
    "    for item in lst:\n",
    "        if isinstance(item, (list, tuple, set)):\n",
    "            flat_list.extend(flatten_list(item))\n",
    "        elif isinstance(item, dict):\n",
    "            flat_list.extend(flatten_list(item.values()))\n",
    "            flat_list.extend(flatten_list(item.keys()))\n",
    "        elif isinstance(item, (int, float)):\n",
    "            flat_list.append(item)\n",
    "    return flat_list\n",
    "\n",
    "def product_of_numbers(lst):\n",
    "    flat_list = flatten_list(lst)\n",
    "    product = 1\n",
    "    for num in flat_list:\n",
    "        product *= num\n",
    "    return product\n",
    "\n",
    "# Example list\n",
    "list1 = [1, 2, 3, 4, [44, 55, 66, True], False, (34, 56, 78, 89, 34), {1, 2, 3, 3, 2, 1}, {1: 34, \"key2\": [55, 67, 78, 89], 4: (45, 22, 61, 34)}, [56, 'data science'], 'Machine Learning']\n",
    "print(product_of_numbers(list1))\n"
   ]
  },
  {
   "cell_type": "code",
   "execution_count": null,
   "id": "a26d3c3b-fe34-4e4e-a25f-d81b43e61be2",
   "metadata": {},
   "outputs": [],
   "source": []
  }
 ],
 "metadata": {
  "kernelspec": {
   "display_name": "Python 3 (ipykernel)",
   "language": "python",
   "name": "python3"
  },
  "language_info": {
   "codemirror_mode": {
    "name": "ipython",
    "version": 3
   },
   "file_extension": ".py",
   "mimetype": "text/x-python",
   "name": "python",
   "nbconvert_exporter": "python",
   "pygments_lexer": "ipython3",
   "version": "3.10.8"
  }
 },
 "nbformat": 4,
 "nbformat_minor": 5
}
