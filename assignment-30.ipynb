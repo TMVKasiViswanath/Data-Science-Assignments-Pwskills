{
 "cells": [
  {
   "cell_type": "code",
   "execution_count": null,
   "id": "53e17029-97dc-4206-821f-fc961584a537",
   "metadata": {},
   "outputs": [],
   "source": [
    "Compute the mean (average) of the studying time and the final exam scores.\n",
    "Calculate the difference between each studying time and the mean studying time, and between each exam\n",
    "score and the mean exam score.\n",
    "Multiply these differences for each pair of data points and sum up these products.\n",
    "Calculate the square root of the sum of the squares of the differences between each studying time and\n",
    "the mean studying time, and between each exam score and the mean exam score.\n",
    "Divide the sum of the products from step 3 by the product of the square roots from step 4."
   ]
  },
  {
   "cell_type": "code",
   "execution_count": null,
   "id": "08c70850-a65b-44ea-9e92-530da8f8fc84",
   "metadata": {},
   "outputs": [],
   "source": [
    "Rank the data for each variable separately, from lowest to highest.\n",
    "Assign ranks starting from 1 for the lowest value to the number of data points for the highest value\n",
    "for each variable.\n",
    "Calculate the differences in ranks for each pair of data points.\n",
    "Square these differences and sum them.\n",
    "Calculate Spearman rank correlation\n",
    "1 indicates a perfect monotonic relationship where higher sleep correlates with higher job satisfaction.\n",
    "-1 indicates a perfect monotonic relationship where higher sleep correlates with lower job satisfaction.\n",
    "0 indicates no monotonic relationship.\n",
    "\n",
    "If the coefficient is close to 1, it suggests a strong positive monotonic relationship, meaning as the \n",
    "amount of sleep increases, job satisfaction tends to increase.\n",
    "If the coefficient is close to -1, it suggests a strong negative monotonic relationship, meaning as the\n",
    "amount of sleep increases, job satisfaction tends to decrease.\n",
    "If the coefficient is close to 0, it suggests no monotonic relationship between the amount of sleep and\n",
    "job satisfaction.\n"
   ]
  },
  {
   "cell_type": "code",
   "execution_count": null,
   "id": "6b331a6a-d74f-4a8c-b1ef-940b8a12ec06",
   "metadata": {},
   "outputs": [],
   "source": [
    "Collect the data on the number of hours of exercise per week and BMI for each participant.\n",
    "Calculate the Pearson correlation coefficient\n",
    "\n",
    "If the Pearson correlation coefficient is close to 1, it indicates a strong positive linear relationship \n",
    "between exercise hours and BMI.\n",
    "If the Spearman rank correlation is close to 1, it indicates a strong monotonic relationship between \n",
    "exercise hours and BMI, which could be linear or nonlinear.\n",
    "If the Pearson correlation coefficient is close to -1, it indicates a strong negative linear relationship\n",
    "between exercise hours and BMI.\n",
    "If the Spearman rank correlation is close to -1, it indicates a strong negative monotonic relationship\n",
    "between exercise hours and BMI.\n",
    "If both coefficients are close to 0, it indicates no linear or monotonic relationship between exercise\n",
    "hours and BMI."
   ]
  },
  {
   "cell_type": "code",
   "execution_count": null,
   "id": "ecd6158b-0694-425e-9085-bcbd701fc5ad",
   "metadata": {},
   "outputs": [],
   "source": [
    "If the coefficient is close to 1, it indicates a strong positive linear relationship, meaning as the\n",
    "number of hours of television watching per day increases, the level of physical activity tends to increase.\n",
    "If the coefficient is close to -1, it indicates a strong negative linear relationship, meaning as the\n",
    "number of hours of television watching per day increases, the level of physical activity tends to decrease.\n",
    "If the coefficient is close to 0, it indicates no linear relationship between the number of hours of \n",
    "television watching per day and the level of physical activity.\n",
    "\n"
   ]
  },
  {
   "cell_type": "code",
   "execution_count": null,
   "id": "bf66ce6a-d84c-4540-95fe-6ccacc29d9c9",
   "metadata": {},
   "outputs": [],
   "source": [
    "Collect the data on the number of sales calls made per day and the number of sales made per week for\n",
    "each sales representative.\n",
    "Calculate the Pearson correlation coefficient\n",
    "Interpret the correlation coefficient:\n",
    "If the coefficient is close to 1, it indicates a strong positive linear relationship, meaning as the \n",
    "number of sales calls made per day increases, the number of sales made per week tends to increase.\n",
    "If the coefficient is close to -1, it indicates a strong negative linear relationship, meaning as the\n",
    "number of sales calls made per day increases, the number of sales made per week tends to decrease.\n",
    "If the coefficient is close to 0, it indicates no linear relationship between the number of sales calls\n",
    "made per day and the number of sales made per week.\n"
   ]
  }
 ],
 "metadata": {
  "kernelspec": {
   "display_name": "Python 3 (ipykernel)",
   "language": "python",
   "name": "python3"
  },
  "language_info": {
   "codemirror_mode": {
    "name": "ipython",
    "version": 3
   },
   "file_extension": ".py",
   "mimetype": "text/x-python",
   "name": "python",
   "nbconvert_exporter": "python",
   "pygments_lexer": "ipython3",
   "version": "3.10.8"
  }
 },
 "nbformat": 4,
 "nbformat_minor": 5
}
