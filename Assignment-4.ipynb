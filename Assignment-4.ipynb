{
 "cells": [
  {
   "cell_type": "code",
   "execution_count": 7,
   "id": "68e489ab-4c9c-4d42-81f0-68d4bc9357c0",
   "metadata": {},
   "outputs": [],
   "source": [
    "\"\"\"\n",
    "Q1.Calsss is a concrete blueprint for thae objects that is defined in that. All the specific methods related \n",
    "   to that objecct is present in the class itself.\n",
    "   On the other hand objects are instances of the class. The specific method can be used in class only through it.\n",
    "   \n",
    "\"\"\"\n",
    "\n",
    "class Student:\n",
    "    \n",
    "    def __init__(self,name, roll_no):\n",
    "        self.name=name\n",
    "        self.roll_no=roll_no\n",
    "        \n",
    "    #object initialisation.\n",
    "student1=Student(\"viswanath\",46)"
   ]
  },
  {
   "cell_type": "code",
   "execution_count": 8,
   "id": "a3633de6-3e13-4d50-8425-c90a2832e944",
   "metadata": {},
   "outputs": [
    {
     "data": {
      "text/plain": [
       "'\\nQ.2\\n     1.Encapsulation.\\n     2.Polymorphism.\\n     3.Inheritance.\\n     4.Abstraction\\n'"
      ]
     },
     "execution_count": 8,
     "metadata": {},
     "output_type": "execute_result"
    }
   ],
   "source": [
    "\"\"\"\n",
    "Q.2\n",
    "     1.Encapsulation.\n",
    "     2.Polymorphism.\n",
    "     3.Inheritance.\n",
    "     4.Abstraction\n",
    "\"\"\""
   ]
  },
  {
   "cell_type": "code",
   "execution_count": 11,
   "id": "21463a99-9f9a-456f-a3e0-c7198380c375",
   "metadata": {},
   "outputs": [
    {
     "name": "stdout",
     "output_type": "stream",
     "text": [
      "hello Kasi Viswanath\n"
     ]
    }
   ],
   "source": [
    "\"\"\"\n",
    "Q.3 __init__() method is like constructor in python that initialises the class.\n",
    "    That means whatever we did in this method that is default to every object that we are creating.\n",
    "    \n",
    "\"\"\"\n",
    "class Student_info:\n",
    "    \n",
    "    def __init__(self,name, roll_no):\n",
    "        self.name=name\n",
    "        self.roll_no=roll_no\n",
    "        print(\"hello Kasi Viswanath\")\n",
    "        \n",
    "    #object initialisation.\n",
    "student1=Student_info(\"Viswanath\",46)\n",
    "\n",
    "#if we initialize an object then automatically print function will be called"
   ]
  },
  {
   "cell_type": "code",
   "execution_count": 12,
   "id": "ed179a8f-6230-4264-a570-c0b8c9ae63fb",
   "metadata": {},
   "outputs": [
    {
     "data": {
      "text/plain": [
       "'\\nQ.4 self is used to mention that the specific method is belongs to this class itself.\\n    this is not a keyword, we can use any name in place of self.\\n    If we dont mention self in any method under a specific class then it will give error\\n'"
      ]
     },
     "execution_count": 12,
     "metadata": {},
     "output_type": "execute_result"
    }
   ],
   "source": [
    "\"\"\"\n",
    "Q.4 self is used to mention that the specific method is belongs to this class itself.\n",
    "    this is not a keyword, we can use any name in place of self.\n",
    "    If we dont mention self in any method under a specific class then it will give error\n",
    "\"\"\""
   ]
  },
  {
   "cell_type": "code",
   "execution_count": 17,
   "id": "882f2ed2-13c3-45b9-b3e6-63b8eed03a8d",
   "metadata": {},
   "outputs": [
    {
     "name": "stdout",
     "output_type": "stream",
     "text": [
      "hasdshfhoi\n",
      "bow!\n"
     ]
    }
   ],
   "source": [
    "\"\"\"\n",
    "Q.5 Inheritance is used to extract methods from other classes that we are inheriting.\n",
    "\n",
    "\"\"\"\n",
    "# inheriting single class.\n",
    "class Animal:\n",
    "    def speak(self):\n",
    "        print(\"hasdshfhoi\")\n",
    "class Dog(Animal):\n",
    "    def sound(self):\n",
    "        print(\"bow!\")\n",
    "        \n",
    "dog1=Dog()\n",
    "dog1.speak()\n",
    "dog1.sound()"
   ]
  },
  {
   "cell_type": "code",
   "execution_count": 21,
   "id": "60d0d328-0214-4e26-a10a-a28f08a45b4e",
   "metadata": {},
   "outputs": [
    {
     "name": "stdout",
     "output_type": "stream",
     "text": [
      "Different types of cars\n",
      "Fully charged\n",
      "Electic cars are in very good condition\n"
     ]
    }
   ],
   "source": [
    "#Inheriting multiple classes into single class\n",
    "\n",
    "class Car:\n",
    "    def types(self):\n",
    "        print(\"Different types of cars\")\n",
    "\n",
    "class electric:\n",
    "    def charge(self):\n",
    "        print(\"Fully charged\")\n",
    "\n",
    "class Electric_car(Car,electric):\n",
    "    def condition(self):\n",
    "        print(\"Electic cars are in very good condition\")\n",
    "        \n",
    "car=Electric_car()\n",
    "car.types()\n",
    "car.charge()\n",
    "car.condition()"
   ]
  },
  {
   "cell_type": "code",
   "execution_count": null,
   "id": "dc07ff1e-f865-4dde-b8d9-cf0661184152",
   "metadata": {},
   "outputs": [],
   "source": []
  }
 ],
 "metadata": {
  "kernelspec": {
   "display_name": "Python 3 (ipykernel)",
   "language": "python",
   "name": "python3"
  },
  "language_info": {
   "codemirror_mode": {
    "name": "ipython",
    "version": 3
   },
   "file_extension": ".py",
   "mimetype": "text/x-python",
   "name": "python",
   "nbconvert_exporter": "python",
   "pygments_lexer": "ipython3",
   "version": "3.10.8"
  }
 },
 "nbformat": 4,
 "nbformat_minor": 5
}
