{
 "cells": [
  {
   "cell_type": "code",
   "execution_count": null,
   "id": "58c39f67-706c-47b9-b2a1-0abf29c4becc",
   "metadata": {},
   "outputs": [],
   "source": [
    "In machine learning algorithms, kernel functions play a crucial role in transforming input data into\n",
    "a higher-dimensional feature space, where the data may become linearly separable. Polynomial functions\n",
    "are a type of kernel function that can be used to achieve this transformation.\n",
    "\n",
    "The relationship between polynomial functions and kernel functions lies in the fact that polynomial \n",
    "kernel functions are a specific type of kernel function used in many machine learning algorithms, \n",
    "including Support Vector Machines (SVMs). "
   ]
  },
  {
   "cell_type": "code",
   "execution_count": 1,
   "id": "cd630f43-252a-49ff-9276-4434d373354f",
   "metadata": {},
   "outputs": [
    {
     "name": "stdout",
     "output_type": "stream",
     "text": [
      "Accuracy: 0.9777777777777777\n"
     ]
    }
   ],
   "source": [
    "from sklearn import datasets\n",
    "from sklearn.model_selection import train_test_split\n",
    "from sklearn.svm import SVC\n",
    "from sklearn.metrics import accuracy_score\n",
    "\n",
    "\n",
    "iris = datasets.load_iris()\n",
    "X = iris.data\n",
    "y = iris.target\n",
    "\n",
    "X_train, X_test, y_train, y_test = train_test_split(X, y, test_size=0.3, random_state=42)\n",
    "\n",
    "\n",
    "svm_poly = SVC(kernel='poly', degree=3) \n",
    "svm_poly.fit(X_train, y_train)\n",
    "\n",
    "\n",
    "y_pred = svm_poly.predict(X_test)\n",
    "\n",
    "\n",
    "accuracy = accuracy_score(y_test, y_pred)\n",
    "print(f\"Accuracy: {accuracy}\")\n"
   ]
  },
  {
   "cell_type": "code",
   "execution_count": null,
   "id": "c0cfdf35-814b-46f9-b024-2934726b5baf",
   "metadata": {},
   "outputs": [],
   "source": [
    "In Support Vector Regression (SVR), the epsilon parameter, often denoted as \n",
    "ϵ, is a hyperparameter that controls the width of the epsilon-insensitive tube around the predicted values.\n",
    "This tube defines a margin within which no penalty is incurred for errors in prediction.\n",
    "\n",
    "When you increase the value of ϵ, you are essentially widening this tube. A wider tube allows more data\n",
    "points to fall within the margin, reducing the penalty for points that lie within the margin. As a result,\n",
    "the SVR model becomes less sensitive to individual data points, and fewer support vectors are needed to \n",
    "define the regression function."
   ]
  },
  {
   "cell_type": "code",
   "execution_count": null,
   "id": "3c185894-a35b-4502-8919-6a422141e35c",
   "metadata": {},
   "outputs": [],
   "source": [
    "Kernel Function:\n",
    "\n",
    "Choose a linear kernel for linear relationships.\n",
    "Choose a polynomial kernel for polynomial relationships.\n",
    "Choose an RBF kernel for non-linear relationships.\n",
    "Choose a sigmoid kernel for sigmoidal relationships.\n",
    "C Parameter:\n",
    "\n",
    "Increase C to fit the training data more closely (may overfit).\n",
    "Decrease C to simplify the model and improve generalization (may underfit).\n",
    "Epsilon Parameter:\n",
    "\n",
    "Increase epsilon to allow more errors within the margin, making the model more robust to noise.\n",
    "Decrease epsilon to penalize errors more heavily, making the model more precise but potentially less robust.\n",
    "Gamma Parameter:\n",
    "\n",
    "Increase gamma to make the model more sensitive to variations in the data, potentially leading to a more\n",
    "complex decision boundary.\n",
    "Decrease gamma to make the model less sensitive to variations, potentially leading to a smoother decision\n",
    "boundary."
   ]
  },
  {
   "cell_type": "code",
   "execution_count": 2,
   "id": "6fff1b56-034a-4faa-a730-1d6fe02188b8",
   "metadata": {},
   "outputs": [
    {
     "name": "stdout",
     "output_type": "stream",
     "text": [
      "Accuracy: 1.0\n",
      "Best Parameters: {'C': 0.1, 'gamma': 1, 'kernel': 'poly'}\n"
     ]
    },
    {
     "data": {
      "text/plain": [
       "['tuned_svc_model.pkl']"
      ]
     },
     "execution_count": 2,
     "metadata": {},
     "output_type": "execute_result"
    }
   ],
   "source": [
    "\n",
    "from sklearn.datasets import load_iris\n",
    "from sklearn.model_selection import train_test_split, GridSearchCV\n",
    "from sklearn.svm import SVC\n",
    "from sklearn.preprocessing import StandardScaler\n",
    "from sklearn.metrics import accuracy_score\n",
    "import joblib\n",
    "\n",
    "\n",
    "iris = load_iris()\n",
    "X = iris.data\n",
    "y = iris.target\n",
    "\n",
    "\n",
    "X_train, X_test, y_train, y_test = train_test_split(X, y, test_size=0.3, random_state=42)\n",
    "\n",
    "\n",
    "scaler = StandardScaler()\n",
    "X_train_scaled = scaler.fit_transform(X_train)\n",
    "X_test_scaled = scaler.transform(X_test)\n",
    "\n",
    "\n",
    "svc = SVC()\n",
    "\n",
    "\n",
    "svc.fit(X_train_scaled, y_train)\n",
    "\n",
    "\n",
    "y_pred = svc.predict(X_test_scaled)\n",
    "\n",
    "\n",
    "accuracy = accuracy_score(y_test, y_pred)\n",
    "print(f\"Accuracy: {accuracy}\")\n",
    "\n",
    "\n",
    "param_grid = {'C': [0.1, 1, 10], 'gamma': [0.1, 1, 10], 'kernel': ['rbf', 'linear', 'poly']}\n",
    "grid_search = GridSearchCV(SVC(), param_grid, cv=3)\n",
    "grid_search.fit(X_train_scaled, y_train)\n",
    "\n",
    "\n",
    "best_params = grid_search.best_params_\n",
    "print(f\"Best Parameters: {best_params}\")\n",
    "\n",
    "\n",
    "tuned_svc = SVC(**best_params)\n",
    "tuned_svc.fit(X, y)\n",
    "\n",
    "joblib.dump(tuned_svc, 'tuned_svc_model.pkl')\n"
   ]
  },
  {
   "cell_type": "code",
   "execution_count": null,
   "id": "bd930884-70d0-4e98-8737-1b5a5de1be1a",
   "metadata": {},
   "outputs": [],
   "source": []
  }
 ],
 "metadata": {
  "kernelspec": {
   "display_name": "Python 3 (ipykernel)",
   "language": "python",
   "name": "python3"
  },
  "language_info": {
   "codemirror_mode": {
    "name": "ipython",
    "version": 3
   },
   "file_extension": ".py",
   "mimetype": "text/x-python",
   "name": "python",
   "nbconvert_exporter": "python",
   "pygments_lexer": "ipython3",
   "version": "3.10.8"
  }
 },
 "nbformat": 4,
 "nbformat_minor": 5
}
