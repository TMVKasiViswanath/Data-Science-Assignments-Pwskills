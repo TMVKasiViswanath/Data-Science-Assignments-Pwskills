{
 "cells": [
  {
   "cell_type": "code",
   "execution_count": 1,
   "id": "ea197491-d433-404d-a960-92af0ed092ad",
   "metadata": {},
   "outputs": [
    {
     "name": "stdout",
     "output_type": "stream",
     "text": [
      "Accuracy of KNN on Iris dataset: 1.00\n"
     ]
    }
   ],
   "source": [
    "# Import necessary libraries\n",
    "from sklearn.datasets import load_iris\n",
    "from sklearn.model_selection import train_test_split\n",
    "from sklearn.neighbors import KNeighborsClassifier\n",
    "from sklearn.metrics import accuracy_score\n",
    "\n",
    "# Step 1: Load the dataset\n",
    "iris = load_iris()\n",
    "X = iris.data  # Features\n",
    "y = iris.target  # Target\n",
    "\n",
    "# Step 2: Split the dataset into training and testing sets (80% train, 20% test)\n",
    "X_train, X_test, y_train, y_test = train_test_split(X, y, test_size=0.2, random_state=42)\n",
    "\n",
    "# Step 3: Instantiate the KNN classifier\n",
    "knn = KNeighborsClassifier(n_neighbors=5)  # Using k=5 as an example, you can change this value\n",
    "\n",
    "# Step 4: Train the model\n",
    "knn.fit(X_train, y_train)\n",
    "\n",
    "# Step 5: Make predictions and evaluate the model\n",
    "y_pred = knn.predict(X_test)\n",
    "accuracy = accuracy_score(y_test, y_pred)\n",
    "print(f\"Accuracy of KNN on Iris dataset: {accuracy:.2f}\")\n"
   ]
  },
  {
   "cell_type": "code",
   "execution_count": 3,
   "id": "121f8215-f286-4523-b4d2-fb74d98b5d70",
   "metadata": {},
   "outputs": [
    {
     "name": "stdout",
     "output_type": "stream",
     "text": [
      "Mean Squared Error (MSE): 3019.08\n",
      "R-squared (R2): 0.43\n"
     ]
    }
   ],
   "source": [
    "# Import necessary libraries\n",
    "from sklearn.datasets import load_diabetes\n",
    "from sklearn.model_selection import train_test_split\n",
    "from sklearn.neighbors import KNeighborsRegressor\n",
    "from sklearn.metrics import mean_squared_error, r2_score\n",
    "\n",
    "# Step 1: Load the dataset\n",
    "diabetes = load_diabetes()\n",
    "X = diabetes.data  # Features\n",
    "y = diabetes.target  # Target (disease progression after one year)\n",
    "\n",
    "# Step 2: Split the dataset into training and testing sets (80% train, 20% test)\n",
    "X_train, X_test, y_train, y_test = train_test_split(X, y, test_size=0.2, random_state=42)\n",
    "\n",
    "# Step 3: Instantiate the KNN regressor\n",
    "knn = KNeighborsRegressor(n_neighbors=5)  # Using k=5 as an example, you can change this value\n",
    "\n",
    "# Step 4: Train the model\n",
    "knn.fit(X_train, y_train)\n",
    "\n",
    "# Step 5: Make predictions and evaluate the model\n",
    "y_pred = knn.predict(X_test)\n",
    "\n",
    "# Calculate regression metrics\n",
    "mse = mean_squared_error(y_test, y_pred)\n",
    "r2 = r2_score(y_test, y_pred)\n",
    "\n",
    "print(f\"Mean Squared Error (MSE): {mse:.2f}\")\n",
    "print(f\"R-squared (R2): {r2:.2f}\")\n"
   ]
  },
  {
   "cell_type": "code",
   "execution_count": 4,
   "id": "8a8443ff-d48d-4a68-9350-6a0a6733bc1a",
   "metadata": {},
   "outputs": [
    {
     "name": "stdout",
     "output_type": "stream",
     "text": [
      "Optimal k: 6\n",
      "Cross-validation Accuracy: 0.98\n"
     ]
    }
   ],
   "source": [
    "# Import necessary libraries\n",
    "from sklearn.datasets import load_iris\n",
    "from sklearn.model_selection import train_test_split, cross_val_score\n",
    "from sklearn.neighbors import KNeighborsClassifier\n",
    "import numpy as np\n",
    "\n",
    "# Step 1: Load the dataset\n",
    "iris = load_iris()\n",
    "X = iris.data  # Features\n",
    "y = iris.target  # Target\n",
    "\n",
    "# Step 3: Define the range of k values to test\n",
    "k_values = list(range(1, 31))  # Test k values from 1 to 30\n",
    "\n",
    "# Step 4: Perform cross-validation for each k value and compute mean accuracy\n",
    "cv_scores = []\n",
    "for k in k_values:\n",
    "    knn = KNeighborsClassifier(n_neighbors=k)\n",
    "    scores = cross_val_score(knn, X, y, cv=5, scoring='accuracy')  # 5-fold cross-validation\n",
    "    cv_scores.append(scores.mean())\n",
    "\n",
    "# Step 5: Determine the optimal k by finding the k with the highest cross-validation score\n",
    "optimal_k = k_values[np.argmax(cv_scores)]\n",
    "optimal_score = np.max(cv_scores)\n",
    "\n",
    "print(f\"Optimal k: {optimal_k}\")\n",
    "print(f\"Cross-validation Accuracy: {optimal_score:.2f}\")\n"
   ]
  },
  {
   "cell_type": "code",
   "execution_count": 5,
   "id": "cb790c60-0640-4471-86ff-b99022eef6cc",
   "metadata": {},
   "outputs": [
    {
     "name": "stdout",
     "output_type": "stream",
     "text": [
      "Mean Squared Error (MSE): 3047.45\n",
      "R-squared (R2): 0.42\n"
     ]
    }
   ],
   "source": [
    "# Import necessary libraries\n",
    "from sklearn.datasets import load_diabetes\n",
    "from sklearn.model_selection import train_test_split\n",
    "from sklearn.neighbors import KNeighborsRegressor\n",
    "from sklearn.preprocessing import StandardScaler\n",
    "from sklearn.metrics import mean_squared_error, r2_score\n",
    "\n",
    "# Step 1: Load the dataset\n",
    "diabetes = load_diabetes()\n",
    "X = diabetes.data  # Features\n",
    "y = diabetes.target  # Target (disease progression after one year)\n",
    "\n",
    "# Step 2: Split the dataset into training and testing sets (80% train, 20% test)\n",
    "X_train, X_test, y_train, y_test = train_test_split(X, y, test_size=0.2, random_state=42)\n",
    "\n",
    "# Step 3: Scale the features using StandardScaler\n",
    "scaler = StandardScaler()\n",
    "X_train_scaled = scaler.fit_transform(X_train)\n",
    "X_test_scaled = scaler.transform(X_test)\n",
    "\n",
    "# Step 4: Instantiate the KNN regressor\n",
    "knn = KNeighborsRegressor(n_neighbors=5)  # Using k=5 as an example, you can change this value\n",
    "\n",
    "# Step 5: Train the model on the scaled training data\n",
    "knn.fit(X_train_scaled, y_train)\n",
    "\n",
    "# Step 6: Make predictions and evaluate the model\n",
    "y_pred = knn.predict(X_test_scaled)\n",
    "\n",
    "# Calculate regression metrics\n",
    "mse = mean_squared_error(y_test, y_pred)\n",
    "r2 = r2_score(y_test, y_pred)\n",
    "\n",
    "print(f\"Mean Squared Error (MSE): {mse:.2f}\")\n",
    "print(f\"R-squared (R2): {r2:.2f}\")\n"
   ]
  },
  {
   "cell_type": "code",
   "execution_count": 6,
   "id": "769cf758-246a-48cf-810c-5acd9066a0c3",
   "metadata": {},
   "outputs": [
    {
     "name": "stdout",
     "output_type": "stream",
     "text": [
      "Accuracy of KNN with weighted voting on Iris dataset: 1.00\n"
     ]
    }
   ],
   "source": [
    "# Import necessary libraries\n",
    "from sklearn.datasets import load_iris\n",
    "from sklearn.model_selection import train_test_split\n",
    "from sklearn.neighbors import KNeighborsClassifier\n",
    "from sklearn.metrics import accuracy_score\n",
    "\n",
    "# Step 1: Load the dataset\n",
    "iris = load_iris()\n",
    "X = iris.data  # Features\n",
    "y = iris.target  # Target\n",
    "\n",
    "# Step 2: Split the dataset into training and testing sets\n",
    "X_train, X_test, y_train, y_test = train_test_split(X, y, test_size=0.2, random_state=42)\n",
    "\n",
    "# Step 3: Instantiate the KNN classifier with weighted voting\n",
    "# Using 'weights' parameter set to 'distance' for weighted voting\n",
    "knn = KNeighborsClassifier(n_neighbors=5, weights='distance')  # Using k=5 as an example, you can change this value\n",
    "\n",
    "# Step 4: Train the model\n",
    "knn.fit(X_train, y_train)\n",
    "\n",
    "# Step 5: Make predictions and evaluate the model\n",
    "y_pred = knn.predict(X_test)\n",
    "accuracy = accuracy_score(y_test, y_pred)\n",
    "\n",
    "print(f\"Accuracy of KNN with weighted voting on Iris dataset: {accuracy:.2f}\")\n"
   ]
  },
  {
   "cell_type": "code",
   "execution_count": 9,
   "id": "1aff653e-578a-42f9-a041-ccf533753c91",
   "metadata": {},
   "outputs": [
    {
     "name": "stdout",
     "output_type": "stream",
     "text": [
      "Accuracy of KNN with standardized features: 1.00\n"
     ]
    }
   ],
   "source": [
    "# Import necessary libraries\n",
    "from sklearn.preprocessing import StandardScaler\n",
    "\n",
    "def preprocess_features(X_train, X_test):\n",
    "    \"\"\"\n",
    "    Standardizes (scales) the features using StandardScaler.\n",
    "\n",
    "    Parameters:\n",
    "    X_train (numpy array): Training features.\n",
    "    X_test (numpy array): Testing features.\n",
    "\n",
    "    Returns:\n",
    "    X_train_scaled (numpy array): Standardized training features.\n",
    "    X_test_scaled (numpy array): Standardized testing features.\n",
    "    \"\"\"\n",
    "    # Initialize a StandardScaler object\n",
    "    scaler = StandardScaler()\n",
    "\n",
    "    # Fit on training data and transform both training and testing data\n",
    "    X_train_scaled = scaler.fit_transform(X_train)\n",
    "    X_test_scaled = scaler.transform(X_test)\n",
    "\n",
    "    return X_train_scaled, X_test_scaled\n",
    "\n",
    "# Example usage:\n",
    "# Assuming X_train, X_test are already defined from the dataset\n",
    "# X_train_scaled, X_test_scaled = preprocess_features(X_train, X_test)\n",
    "\n",
    "from sklearn.datasets import load_iris\n",
    "from sklearn.model_selection import train_test_split\n",
    "from sklearn.neighbors import KNeighborsClassifier\n",
    "from sklearn.metrics import accuracy_score\n",
    "\n",
    "# Load the dataset\n",
    "iris = load_iris()\n",
    "X = iris.data  # Features\n",
    "y = iris.target  # Target\n",
    "\n",
    "# Split the dataset into training and testing sets\n",
    "X_train, X_test, y_train, y_test = train_test_split(X, y, test_size=0.2, random_state=42)\n",
    "\n",
    "# Standardize the features using the preprocess_features function\n",
    "X_train_scaled, X_test_scaled = preprocess_features(X_train, X_test)\n",
    "\n",
    "# Instantiate the KNN classifier\n",
    "knn = KNeighborsClassifier(n_neighbors=5)\n",
    "\n",
    "# Train the model on the standardized training data\n",
    "knn.fit(X_train_scaled, y_train)\n",
    "\n",
    "# Make predictions on the standardized test data\n",
    "y_pred = knn.predict(X_test_scaled)\n",
    "\n",
    "# Evaluate the model\n",
    "accuracy = accuracy_score(y_test, y_pred)\n",
    "print(f\"Accuracy of KNN with standardized features: {accuracy:.2f}\")\n",
    "\n"
   ]
  },
  {
   "cell_type": "code",
   "execution_count": 10,
   "id": "c7f3ea91-3494-4697-807d-17901c047fe7",
   "metadata": {},
   "outputs": [
    {
     "name": "stdout",
     "output_type": "stream",
     "text": [
      "Euclidean Distance: 5.00\n"
     ]
    }
   ],
   "source": [
    "import numpy as np  # Optional, for handling arrays easily\n",
    "\n",
    "def euclidean_distance(point1, point2):\n",
    "    \"\"\"\n",
    "    Calculate the Euclidean distance between two points.\n",
    "    \n",
    "    Parameters:\n",
    "    point1 (tuple or list): Coordinates of the first point, e.g., (x1, y1).\n",
    "    point2 (tuple or list): Coordinates of the second point, e.g., (x2, y2).\n",
    "    \n",
    "    Returns:\n",
    "    float: Euclidean distance between point1 and point2.\n",
    "    \"\"\"\n",
    "    # Convert tuples or lists to numpy arrays (optional, for ease of calculation)\n",
    "    point1 = np.array(point1)\n",
    "    point2 = np.array(point2)\n",
    "    \n",
    "    # Calculate Euclidean distance\n",
    "    distance = np.sqrt(np.sum((point2 - point1)**2))\n",
    "    \n",
    "    return distance\n",
    "\n",
    "# Example usage:\n",
    "# Calculate the Euclidean distance between points (1, 2) and (4, 6)\n",
    "distance = euclidean_distance((1, 2), (4, 6))\n",
    "print(f\"Euclidean Distance: {distance:.2f}\")\n"
   ]
  },
  {
   "cell_type": "code",
   "execution_count": 11,
   "id": "c9f61b35-f738-412a-b746-549eca1cc839",
   "metadata": {},
   "outputs": [
    {
     "name": "stdout",
     "output_type": "stream",
     "text": [
      "Manhattan Distance: 7\n"
     ]
    }
   ],
   "source": [
    "def manhattan_distance(point1, point2):\n",
    "    \"\"\"\n",
    "    Calculate the Manhattan distance between two points.\n",
    "    \n",
    "    Parameters:\n",
    "    point1 (tuple or list): Coordinates of the first point, e.g., (x1, y1).\n",
    "    point2 (tuple or list): Coordinates of the second point, e.g., (x2, y2).\n",
    "    \n",
    "    Returns:\n",
    "    int: Manhattan distance between point1 and point2.\n",
    "    \"\"\"\n",
    "    # Calculate Manhattan distance\n",
    "    distance = abs(point2[0] - point1[0]) + abs(point2[1] - point1[1])\n",
    "    \n",
    "    return distance\n",
    "\n",
    "# Example usage:\n",
    "# Calculate the Manhattan distance between points (1, 2) and (4, 6)\n",
    "distance = manhattan_distance((1, 2), (4, 6))\n",
    "print(f\"Manhattan Distance: {distance}\")\n"
   ]
  },
  {
   "cell_type": "code",
   "execution_count": null,
   "id": "f4ecdfea-52aa-4e86-89c5-6fc40266dca4",
   "metadata": {},
   "outputs": [],
   "source": []
  }
 ],
 "metadata": {
  "kernelspec": {
   "display_name": "Python 3 (ipykernel)",
   "language": "python",
   "name": "python3"
  },
  "language_info": {
   "codemirror_mode": {
    "name": "ipython",
    "version": 3
   },
   "file_extension": ".py",
   "mimetype": "text/x-python",
   "name": "python",
   "nbconvert_exporter": "python",
   "pygments_lexer": "ipython3",
   "version": "3.10.8"
  }
 },
 "nbformat": 4,
 "nbformat_minor": 5
}
